{
 "metadata": {
  "language_info": {
   "codemirror_mode": {
    "name": "ipython",
    "version": 3
   },
   "file_extension": ".py",
   "mimetype": "text/x-python",
   "name": "python",
   "nbconvert_exporter": "python",
   "pygments_lexer": "ipython3",
   "version": "3.9.0-final"
  },
  "orig_nbformat": 2,
  "kernelspec": {
   "name": "python3",
   "display_name": "Python 3.9.0 64-bit",
   "metadata": {
    "interpreter": {
     "hash": "8d709e0f1025c8b5ac21eaea6db70251b142f66797ba4dadd18d91e64e9b0c3e"
    }
   }
  }
 },
 "nbformat": 4,
 "nbformat_minor": 2,
 "cells": [
  {
   "cell_type": "code",
   "execution_count": 21,
   "metadata": {},
   "outputs": [],
   "source": [
    "# This file is for pruning the original dataset \n",
    "# https://www.kaggle.com/smid80/coronavirus-covid19-tweets-late-april\n",
    "# each file is about 250mb, adding up to around 2.03GB\n",
    "# this file removes non-english tweets\n",
    "# removes users with less than 500 followers\n",
    "# removes tweets with less than 10 likes\n",
    "# removes tweets with less than 10 retweets\n",
    "# removes unnecessary columns: \"created_at\", \"user_id\", \"reply_to_user_id\", \"is_quote\", \"place_full_name\", \"place_type\", \"account_lang\", \"account_created_at\"\n"
   ]
  },
  {
   "cell_type": "code",
   "execution_count": 6,
   "metadata": {},
   "outputs": [],
   "source": [
    "import pandas as pd\n",
    "import glob"
   ]
  },
  {
   "source": [
    "# this file is primarily to clean up the datasets that we have\n",
    "\n",
    "path = \"2020-*.csv\"\n",
    "\n",
    "datasets = []\n",
    "\n",
    "for fname in glob.glob(path):\n",
    "    datasets.append(fname)"
   ],
   "cell_type": "code",
   "metadata": {},
   "execution_count": 18,
   "outputs": []
  },
  {
   "cell_type": "code",
   "execution_count": 22,
   "metadata": {},
   "outputs": [
    {
     "output_type": "execute_result",
     "data": {
      "text/plain": [
       "['2020-04-16 Coronavirus Tweets.CSV',\n",
       " '2020-04-17 Coronavirus Tweets.CSV',\n",
       " '2020-04-18 Coronavirus Tweets.CSV',\n",
       " '2020-04-19 Coronavirus Tweets.CSV',\n",
       " '2020-04-20 Coronavirus Tweets.CSV',\n",
       " '2020-04-21 Coronavirus Tweets.CSV',\n",
       " '2020-04-22 Coronavirus Tweets.CSV',\n",
       " '2020-04-23 Coronavirus Tweets.CSV',\n",
       " '2020-04-24 Coronavirus Tweets.CSV',\n",
       " '2020-04-25 Coronavirus Tweets.CSV',\n",
       " '2020-04-26 Coronavirus Tweets.CSV',\n",
       " '2020-04-27 Coronavirus Tweets.CSV',\n",
       " '2020-04-28 Coronavirus Tweets.CSV',\n",
       " '2020-04-29 Coronavirus Tweets.CSV',\n",
       " '2020-04-30 Coronavirus Tweets.CSV']"
      ]
     },
     "metadata": {},
     "execution_count": 22
    }
   ],
   "source": [
    "datasets"
   ]
  },
  {
   "cell_type": "code",
   "execution_count": 23,
   "metadata": {},
   "outputs": [],
   "source": [
    "\n",
    "for data in datasets:\n",
    "    df = pd.read_csv(data)\n",
    "\n",
    "    df = df.drop([\"created_at\", \"user_id\", \"reply_to_user_id\", \"is_quote\", \"place_full_name\", \"place_type\", \"account_lang\", \"account_created_at\"], axis=1)\n",
    "\n",
    "    df = df[(df['lang'] == \"en\")]\n",
    "    df = df[(df['followers_count'] >= 500)]\n",
    "    df = df[(df['favourites_count'] >= 10)]\n",
    "    df = df[(df['retweet_count'] >= 10)]\n",
    "\n",
    "    df.to_csv(\"pruned-\" + data, index=False)\n"
   ]
  },
  {
   "cell_type": "code",
   "execution_count": 25,
   "metadata": {},
   "outputs": [],
   "source": [
    "# only run to combine the pruned datasets into a single csv\n",
    "\n",
    "path = \"pruned-*.csv\"\n",
    "\n",
    "li = []\n",
    "for fname in glob.glob(path):\n",
    "    df = pd.read_csv(fname, index_col=None, header=0)\n",
    "    li.append(df)\n",
    "\n",
    "frame = pd.concat(li, axis=0, ignore_index=True)"
   ]
  },
  {
   "cell_type": "code",
   "execution_count": 26,
   "metadata": {},
   "outputs": [
    {
     "output_type": "execute_result",
     "data": {
      "text/plain": [
       "                  status_id      screen_name  \\\n",
       "0       1250574629812473860     JAMA_current   \n",
       "1       1250574629355184128             NEJM   \n",
       "2       1250574629288267776           ajplus   \n",
       "3       1250574629275447296            RFERL   \n",
       "4       1250574628927479808  AmerMedicalAssn   \n",
       "...                     ...              ...   \n",
       "124348  1256010154539188226       thecableng   \n",
       "124349  1256010230338641921         DrSenait   \n",
       "124350  1256010240044290048   WellingMichael   \n",
       "124351  1256010321107525636        JaySnapps   \n",
       "124352  1256010367915917313    GovLarryHogan   \n",
       "\n",
       "                                                     text  \\\n",
       "0       Study suggests higher rates of co-infection be...   \n",
       "1       Gabriel Leung and colleagues from Hong Kong de...   \n",
       "2       \"It's too late for my dad. My dad's gone, and ...   \n",
       "3       Belarusian President Lukashenka, fresh out of ...   \n",
       "4       Today's #COVID19 update discusses how to care ...   \n",
       "...                                                   ...   \n",
       "124348  PHOTOS: Humans hide behind rams inside lorries...   \n",
       "124349  Millions of children around the 🌍 will likely ...   \n",
       "124350  #Venezuela Narco dictatorship of Maduro now ta...   \n",
       "124351  A Tribute to the Pirate Graduates of 2020\\n\\nA...   \n",
       "124352  As #WorldAutismMonth draws to a close, we reco...   \n",
       "\n",
       "                         source  reply_to_status_id reply_to_screen_name  \\\n",
       "0                      Sprinklr                 NaN                  NaN   \n",
       "1       Twitter for Advertisers                 NaN                  NaN   \n",
       "2          Twitter Media Studio                 NaN                  NaN   \n",
       "3          Twitter Media Studio                 NaN                  NaN   \n",
       "4                      Sprinklr                 NaN                  NaN   \n",
       "...                         ...                 ...                  ...   \n",
       "124348      Twitter for Android                 NaN                  NaN   \n",
       "124349       Twitter for iPhone                 NaN                  NaN   \n",
       "124350       Twitter for iPhone                 NaN                  NaN   \n",
       "124351          Twitter Web App                 NaN                  NaN   \n",
       "124352          Twitter Web App                 NaN                  NaN   \n",
       "\n",
       "        is_retweet  favourites_count  retweet_count country_code  \\\n",
       "0            False              1357            130          NaN   \n",
       "1            False              1019             91          NaN   \n",
       "2            False              2338             38          NaN   \n",
       "3            False               219             10          NaN   \n",
       "4            False              2941             11          NaN   \n",
       "...            ...               ...            ...          ...   \n",
       "124348       False              2252             72          NaN   \n",
       "124349       False             43982             19          NaN   \n",
       "124350       False            261795             29          NaN   \n",
       "124351       False              8893             13          NaN   \n",
       "124352       False              5204             57          NaN   \n",
       "\n",
       "        followers_count  friends_count  verified lang  \n",
       "0                354174            805      True   en  \n",
       "1                693447            395      True   en  \n",
       "2               1107419            360      True   en  \n",
       "3                 91453           1037      True   en  \n",
       "4                720719           6895      True   en  \n",
       "...                 ...            ...       ...  ...  \n",
       "124348           483813           3888      True   en  \n",
       "124349            93055            260      True   en  \n",
       "124350            44514          19381     False   en  \n",
       "124351              747            643     False   en  \n",
       "124352           179919            928      True   en  \n",
       "\n",
       "[124353 rows x 14 columns]"
      ],
      "text/html": "<div>\n<style scoped>\n    .dataframe tbody tr th:only-of-type {\n        vertical-align: middle;\n    }\n\n    .dataframe tbody tr th {\n        vertical-align: top;\n    }\n\n    .dataframe thead th {\n        text-align: right;\n    }\n</style>\n<table border=\"1\" class=\"dataframe\">\n  <thead>\n    <tr style=\"text-align: right;\">\n      <th></th>\n      <th>status_id</th>\n      <th>screen_name</th>\n      <th>text</th>\n      <th>source</th>\n      <th>reply_to_status_id</th>\n      <th>reply_to_screen_name</th>\n      <th>is_retweet</th>\n      <th>favourites_count</th>\n      <th>retweet_count</th>\n      <th>country_code</th>\n      <th>followers_count</th>\n      <th>friends_count</th>\n      <th>verified</th>\n      <th>lang</th>\n    </tr>\n  </thead>\n  <tbody>\n    <tr>\n      <th>0</th>\n      <td>1250574629812473860</td>\n      <td>JAMA_current</td>\n      <td>Study suggests higher rates of co-infection be...</td>\n      <td>Sprinklr</td>\n      <td>NaN</td>\n      <td>NaN</td>\n      <td>False</td>\n      <td>1357</td>\n      <td>130</td>\n      <td>NaN</td>\n      <td>354174</td>\n      <td>805</td>\n      <td>True</td>\n      <td>en</td>\n    </tr>\n    <tr>\n      <th>1</th>\n      <td>1250574629355184128</td>\n      <td>NEJM</td>\n      <td>Gabriel Leung and colleagues from Hong Kong de...</td>\n      <td>Twitter for Advertisers</td>\n      <td>NaN</td>\n      <td>NaN</td>\n      <td>False</td>\n      <td>1019</td>\n      <td>91</td>\n      <td>NaN</td>\n      <td>693447</td>\n      <td>395</td>\n      <td>True</td>\n      <td>en</td>\n    </tr>\n    <tr>\n      <th>2</th>\n      <td>1250574629288267776</td>\n      <td>ajplus</td>\n      <td>\"It's too late for my dad. My dad's gone, and ...</td>\n      <td>Twitter Media Studio</td>\n      <td>NaN</td>\n      <td>NaN</td>\n      <td>False</td>\n      <td>2338</td>\n      <td>38</td>\n      <td>NaN</td>\n      <td>1107419</td>\n      <td>360</td>\n      <td>True</td>\n      <td>en</td>\n    </tr>\n    <tr>\n      <th>3</th>\n      <td>1250574629275447296</td>\n      <td>RFERL</td>\n      <td>Belarusian President Lukashenka, fresh out of ...</td>\n      <td>Twitter Media Studio</td>\n      <td>NaN</td>\n      <td>NaN</td>\n      <td>False</td>\n      <td>219</td>\n      <td>10</td>\n      <td>NaN</td>\n      <td>91453</td>\n      <td>1037</td>\n      <td>True</td>\n      <td>en</td>\n    </tr>\n    <tr>\n      <th>4</th>\n      <td>1250574628927479808</td>\n      <td>AmerMedicalAssn</td>\n      <td>Today's #COVID19 update discusses how to care ...</td>\n      <td>Sprinklr</td>\n      <td>NaN</td>\n      <td>NaN</td>\n      <td>False</td>\n      <td>2941</td>\n      <td>11</td>\n      <td>NaN</td>\n      <td>720719</td>\n      <td>6895</td>\n      <td>True</td>\n      <td>en</td>\n    </tr>\n    <tr>\n      <th>...</th>\n      <td>...</td>\n      <td>...</td>\n      <td>...</td>\n      <td>...</td>\n      <td>...</td>\n      <td>...</td>\n      <td>...</td>\n      <td>...</td>\n      <td>...</td>\n      <td>...</td>\n      <td>...</td>\n      <td>...</td>\n      <td>...</td>\n      <td>...</td>\n    </tr>\n    <tr>\n      <th>124348</th>\n      <td>1256010154539188226</td>\n      <td>thecableng</td>\n      <td>PHOTOS: Humans hide behind rams inside lorries...</td>\n      <td>Twitter for Android</td>\n      <td>NaN</td>\n      <td>NaN</td>\n      <td>False</td>\n      <td>2252</td>\n      <td>72</td>\n      <td>NaN</td>\n      <td>483813</td>\n      <td>3888</td>\n      <td>True</td>\n      <td>en</td>\n    </tr>\n    <tr>\n      <th>124349</th>\n      <td>1256010230338641921</td>\n      <td>DrSenait</td>\n      <td>Millions of children around the 🌍 will likely ...</td>\n      <td>Twitter for iPhone</td>\n      <td>NaN</td>\n      <td>NaN</td>\n      <td>False</td>\n      <td>43982</td>\n      <td>19</td>\n      <td>NaN</td>\n      <td>93055</td>\n      <td>260</td>\n      <td>True</td>\n      <td>en</td>\n    </tr>\n    <tr>\n      <th>124350</th>\n      <td>1256010240044290048</td>\n      <td>WellingMichael</td>\n      <td>#Venezuela Narco dictatorship of Maduro now ta...</td>\n      <td>Twitter for iPhone</td>\n      <td>NaN</td>\n      <td>NaN</td>\n      <td>False</td>\n      <td>261795</td>\n      <td>29</td>\n      <td>NaN</td>\n      <td>44514</td>\n      <td>19381</td>\n      <td>False</td>\n      <td>en</td>\n    </tr>\n    <tr>\n      <th>124351</th>\n      <td>1256010321107525636</td>\n      <td>JaySnapps</td>\n      <td>A Tribute to the Pirate Graduates of 2020\\n\\nA...</td>\n      <td>Twitter Web App</td>\n      <td>NaN</td>\n      <td>NaN</td>\n      <td>False</td>\n      <td>8893</td>\n      <td>13</td>\n      <td>NaN</td>\n      <td>747</td>\n      <td>643</td>\n      <td>False</td>\n      <td>en</td>\n    </tr>\n    <tr>\n      <th>124352</th>\n      <td>1256010367915917313</td>\n      <td>GovLarryHogan</td>\n      <td>As #WorldAutismMonth draws to a close, we reco...</td>\n      <td>Twitter Web App</td>\n      <td>NaN</td>\n      <td>NaN</td>\n      <td>False</td>\n      <td>5204</td>\n      <td>57</td>\n      <td>NaN</td>\n      <td>179919</td>\n      <td>928</td>\n      <td>True</td>\n      <td>en</td>\n    </tr>\n  </tbody>\n</table>\n<p>124353 rows × 14 columns</p>\n</div>"
     },
     "metadata": {},
     "execution_count": 26
    }
   ],
   "source": [
    "frame"
   ]
  },
  {
   "cell_type": "code",
   "execution_count": 27,
   "metadata": {},
   "outputs": [],
   "source": [
    "frame.to_csv(\"merged-and-pruned-dataset.csv\", index=False)"
   ]
  },
  {
   "cell_type": "code",
   "execution_count": null,
   "metadata": {},
   "outputs": [],
   "source": []
  }
 ]
}