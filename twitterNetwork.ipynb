{
 "metadata": {
  "language_info": {
   "codemirror_mode": {
    "name": "ipython",
    "version": 3
   },
   "file_extension": ".py",
   "mimetype": "text/x-python",
   "name": "python",
   "nbconvert_exporter": "python",
   "pygments_lexer": "ipython3",
   "version": "3.9.2-final"
  },
  "orig_nbformat": 2,
  "kernelspec": {
   "name": "python3",
   "display_name": "Python 3.9.2 64-bit",
   "metadata": {
    "interpreter": {
     "hash": "ac59ebe37160ed0dfa835113d9b8498d9f09ceb179beaac4002f036b9467c963"
    }
   }
  }
 },
 "nbformat": 4,
 "nbformat_minor": 2,
 "cells": [
  {
   "cell_type": "code",
   "execution_count": 2,
   "metadata": {},
   "outputs": [],
   "source": [
    "import pandas as pd\n",
    "import networkx as nx\n",
    "import matplotlib.pyplot as plt"
   ]
  },
  {
   "cell_type": "code",
   "execution_count": 52,
   "metadata": {},
   "outputs": [],
   "source": [
    "def get_hashtag_network(df, hashtag: str):\n",
    "    ''' returns a dataframe with the edges and timestamp from tweets feed (df)'''\n",
    "    \n",
    "    mask = df[\"hashtags\"].apply(lambda x: hashtag in x)\n",
    "    filteredDf = df[mask]\n",
    "\n",
    "    edges_df = filteredDf[['screen_name', 'reply_to_screen_name', 'created_at']]\n",
    "    \n",
    "    edges_df = edges_df.dropna()\n",
    "    edges_df = edges_df.drop_duplicates().reset_index(drop=True)\n",
    "    edges_df = edges_df.rename(columns={'screen_name': 'from', 'reply_to_screen_name': 'to'})\n",
    "    \n",
    "    return edges_df\n",
    "\n",
    "\n",
    "def get_strongly_gcc(G):\n",
    "    \"\"\" get the giant strongly connected component of G\"\"\" \n",
    "    SGcc = max(nx.strongly_connected_components(G), key=len)\n",
    "    SGcc = G.subgraph(SGcc)\n",
    "    return SGcc\n",
    "\n",
    "def get_weakly_gcc(G):\n",
    "    \"\"\" get the giant weakly connected component of G\"\"\"  \n",
    "    WGcc = max(nx.weakly_connected_components(G), key=len)\n",
    "    WGcc = G.subgraph(WGcc)\n",
    "    return WGcc\n",
    "   \n",
    "\n",
    "def plot_network(G, G_degree=None):\n",
    "    ''' plot the graph with varying nodesize '''\n",
    "    \n",
    "    plt.figure(num=None, figsize=(15, 15), dpi=60, facecolor='w', edgecolor='k')\n",
    "    pos = nx.spring_layout(G)\n",
    "    \n",
    "    if G_degree:\n",
    "        node_size=[v * 10 for v in dict(G_degree).values()]\n",
    "    else:\n",
    "        node_size = 1\n",
    "        \n",
    "    nx.draw(G, pos, nodelist=dict(G_degree).keys(), node_size=node_size, width=0.5, alpha=0.5, edge_color='b')\n",
    "    plt.axis('off')\n",
    "    plt.show()"
   ]
  },
  {
   "cell_type": "code",
   "execution_count": 5,
   "metadata": {},
   "outputs": [
    {
     "output_type": "execute_result",
     "data": {
      "text/plain": [
       "Index(['status_id', 'created_at', 'screen_name', 'text', 'source',\n",
       "       'reply_to_status_id', 'reply_to_screen_name', 'is_quote', 'is_retweet',\n",
       "       'favourites_count', 'retweet_count', 'country_code', 'followers_count',\n",
       "       'friends_count', 'verified', 'lang', 'hashtags', 'mentions'],\n",
       "      dtype='object')"
      ]
     },
     "metadata": {},
     "execution_count": 5
    }
   ],
   "source": [
    "# when we merge dataset and put it in csv, these no longer retain their original types\n",
    "# so we need the converters + eval to bring their original form back basically\n",
    "df = pd.read_csv('data/merged-dataset.csv', converters={\"hashtags\": eval, \"mentions\": eval, \"is_quote\": eval}) \n",
    "df.columns"
   ]
  },
  {
   "cell_type": "code",
   "execution_count": 57,
   "metadata": {},
   "outputs": [
    {
     "output_type": "execute_result",
     "data": {
      "text/plain": [
       "                  from               to            created_at\n",
       "0        DZMMTeleRadyo    DZMMTeleRadyo  2020-03-29T00:01:14Z\n",
       "1          CPHO_Canada      CPHO_Canada  2020-03-29T00:03:14Z\n",
       "2         zorayapuente        Reylope13  2020-03-29T00:05:37Z\n",
       "3       picardonhealth   picardonhealth  2020-03-29T00:09:29Z\n",
       "4      threadreaderapp  DrJenniferCo_Vu  2020-03-29T00:10:31Z\n",
       "...                ...              ...                   ...\n",
       "20003       RepEscobar       RepEscobar  2020-04-30T23:33:22Z\n",
       "20004     TNHORSEFARMS     TNHORSEFARMS  2020-04-30T23:39:21Z\n",
       "20005      CPHO_Canada      CPHO_Canada  2020-04-30T23:49:50Z\n",
       "20006      CPHO_Canada      CPHO_Canada  2020-04-30T23:49:51Z\n",
       "20007         MINSAPma         MINSAPma  2020-04-30T23:57:10Z\n",
       "\n",
       "[20008 rows x 3 columns]"
      ],
      "text/html": "<div>\n<style scoped>\n    .dataframe tbody tr th:only-of-type {\n        vertical-align: middle;\n    }\n\n    .dataframe tbody tr th {\n        vertical-align: top;\n    }\n\n    .dataframe thead th {\n        text-align: right;\n    }\n</style>\n<table border=\"1\" class=\"dataframe\">\n  <thead>\n    <tr style=\"text-align: right;\">\n      <th></th>\n      <th>from</th>\n      <th>to</th>\n      <th>created_at</th>\n    </tr>\n  </thead>\n  <tbody>\n    <tr>\n      <th>0</th>\n      <td>DZMMTeleRadyo</td>\n      <td>DZMMTeleRadyo</td>\n      <td>2020-03-29T00:01:14Z</td>\n    </tr>\n    <tr>\n      <th>1</th>\n      <td>CPHO_Canada</td>\n      <td>CPHO_Canada</td>\n      <td>2020-03-29T00:03:14Z</td>\n    </tr>\n    <tr>\n      <th>2</th>\n      <td>zorayapuente</td>\n      <td>Reylope13</td>\n      <td>2020-03-29T00:05:37Z</td>\n    </tr>\n    <tr>\n      <th>3</th>\n      <td>picardonhealth</td>\n      <td>picardonhealth</td>\n      <td>2020-03-29T00:09:29Z</td>\n    </tr>\n    <tr>\n      <th>4</th>\n      <td>threadreaderapp</td>\n      <td>DrJenniferCo_Vu</td>\n      <td>2020-03-29T00:10:31Z</td>\n    </tr>\n    <tr>\n      <th>...</th>\n      <td>...</td>\n      <td>...</td>\n      <td>...</td>\n    </tr>\n    <tr>\n      <th>20003</th>\n      <td>RepEscobar</td>\n      <td>RepEscobar</td>\n      <td>2020-04-30T23:33:22Z</td>\n    </tr>\n    <tr>\n      <th>20004</th>\n      <td>TNHORSEFARMS</td>\n      <td>TNHORSEFARMS</td>\n      <td>2020-04-30T23:39:21Z</td>\n    </tr>\n    <tr>\n      <th>20005</th>\n      <td>CPHO_Canada</td>\n      <td>CPHO_Canada</td>\n      <td>2020-04-30T23:49:50Z</td>\n    </tr>\n    <tr>\n      <th>20006</th>\n      <td>CPHO_Canada</td>\n      <td>CPHO_Canada</td>\n      <td>2020-04-30T23:49:51Z</td>\n    </tr>\n    <tr>\n      <th>20007</th>\n      <td>MINSAPma</td>\n      <td>MINSAPma</td>\n      <td>2020-04-30T23:57:10Z</td>\n    </tr>\n  </tbody>\n</table>\n<p>20008 rows × 3 columns</p>\n</div>"
     },
     "metadata": {},
     "execution_count": 57
    }
   ],
   "source": [
    "get_hashtag_network(df, 'COVID19')"
   ]
  },
  {
   "cell_type": "code",
   "execution_count": null,
   "metadata": {},
   "outputs": [],
   "source": []
  }
 ]
}