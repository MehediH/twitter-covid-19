{
 "metadata": {
  "language_info": {
   "codemirror_mode": {
    "name": "ipython",
    "version": 3
   },
   "file_extension": ".py",
   "mimetype": "text/x-python",
   "name": "python",
   "nbconvert_exporter": "python",
   "pygments_lexer": "ipython3",
   "version": "3.9.1-final"
  },
  "orig_nbformat": 2,
  "kernelspec": {
   "name": "python3",
   "display_name": "Python 3.9.1 64-bit",
   "metadata": {
    "interpreter": {
     "hash": "ac2eaa0ea0ebeafcc7822e65e46aa9d4f966f30b695406963e145ea4a91cd4fc"
    }
   }
  }
 },
 "nbformat": 4,
 "nbformat_minor": 2,
 "cells": [
  {
   "cell_type": "code",
   "execution_count": 2,
   "metadata": {},
   "outputs": [],
   "source": [
    "import numpy as np\n",
    "import pandas as pd"
   ]
  },
  {
   "cell_type": "code",
   "execution_count": 4,
   "metadata": {},
   "outputs": [],
   "source": [
    "def loadGame(game, N):\n",
    "\t# N is the number of players in the game\n",
    "\t# load csv data\n",
    "\t# unweighted and weighted networks can be loaded exactly the same way\n",
    "\t# below shows the loader for weighted networks\n",
    "\tdf_network = pd.read_csv(f'{src}/network{game}_weighted.csv', index_col = 0)\n",
    "\n",
    "\t# T is number of timestamps (10 frames)\n",
    "\tT = len(df_network)\n",
    "\t# load VFOA network to T x N x (N+1) array\n",
    "\t# vfoa[t, n, i] is the probability of player n+1 looking at object i at time t\n",
    "\t# i: 0 - laptop, 1 - player 1, 2 - player 2, ..., N - player N\n",
    "\tvfoa = np.reshape(df_network.values, (T,N,N+1))\n",
    "\n",
    "\t# print information\n",
    "\tprint(f'network id:{game}\\t length(x 1/3 second): {T}\\t num of players: {N}')\n",
    "\treturn vfoa"
   ]
  },
  {
   "cell_type": "code",
   "execution_count": null,
   "metadata": {},
   "outputs": [],
   "source": [
    "# loads all 62 networks/games\n",
    "src = './network' # root dir of data\n",
    "meta = pd.read_csv('network_list.csv')\n",
    "\n",
    "for _, row in meta.iterrows():\n",
    "\tloadGame(row['NETWORK'], row['NUMBER_OF_PARTICIPANTS'])"
   ]
  },
  {
   "cell_type": "code",
   "execution_count": 9,
   "metadata": {},
   "outputs": [
    {
     "output_type": "stream",
     "name": "stdout",
     "text": [
      "network id:0\t length(x 1/3 second): 7323\t num of players: 7\n"
     ]
    },
    {
     "output_type": "execute_result",
     "data": {
      "text/plain": [
       "array([[[0.534, 0.   , 0.046, ..., 0.041, 0.029, 0.067],\n",
       "        [0.077, 0.023, 0.   , ..., 0.025, 0.034, 0.503],\n",
       "        [0.079, 0.03 , 0.041, ..., 0.041, 0.037, 0.533],\n",
       "        ...,\n",
       "        [0.043, 0.034, 0.04 , ..., 0.   , 0.05 , 0.256],\n",
       "        [0.15 , 0.111, 0.131, ..., 0.115, 0.   , 0.12 ],\n",
       "        [0.094, 0.071, 0.136, ..., 0.165, 0.109, 0.   ]],\n",
       "\n",
       "       [[0.646, 0.   , 0.061, ..., 0.05 , 0.029, 0.091],\n",
       "        [0.086, 0.021, 0.   , ..., 0.043, 0.043, 0.629],\n",
       "        [0.169, 0.037, 0.047, ..., 0.053, 0.043, 0.594],\n",
       "        ...,\n",
       "        [0.029, 0.043, 0.057, ..., 0.   , 0.054, 0.346],\n",
       "        [0.116, 0.08 , 0.414, ..., 0.085, 0.   , 0.12 ],\n",
       "        [0.017, 0.05 , 0.45 , ..., 0.182, 0.071, 0.   ]],\n",
       "\n",
       "       [[0.73 , 0.   , 0.043, ..., 0.041, 0.021, 0.071],\n",
       "        [0.086, 0.014, 0.   , ..., 0.041, 0.043, 0.629],\n",
       "        [0.109, 0.037, 0.056, ..., 0.06 , 0.041, 0.63 ],\n",
       "        ...,\n",
       "        [0.029, 0.043, 0.057, ..., 0.   , 0.057, 0.343],\n",
       "        [0.129, 0.067, 0.246, ..., 0.143, 0.   , 0.141],\n",
       "        [0.031, 0.101, 0.196, ..., 0.268, 0.104, 0.   ]],\n",
       "\n",
       "       ...,\n",
       "\n",
       "       [[0.   , 0.   , 0.081, ..., 0.109, 0.013, 0.47 ],\n",
       "        [0.181, 0.014, 0.   , ..., 0.03 , 0.029, 0.571],\n",
       "        [0.089, 0.123, 0.164, ..., 0.16 , 0.077, 0.259],\n",
       "        ...,\n",
       "        [0.016, 0.037, 0.031, ..., 0.   , 0.681, 0.164],\n",
       "        [0.094, 0.029, 0.044, ..., 0.062, 0.   , 0.686],\n",
       "        [0.29 , 0.103, 0.111, ..., 0.19 , 0.076, 0.   ]],\n",
       "\n",
       "       [[0.   , 0.   , 0.046, ..., 0.049, 0.001, 0.746],\n",
       "        [0.259, 0.016, 0.   , ..., 0.011, 0.011, 0.641],\n",
       "        [0.03 , 0.057, 0.261, ..., 0.051, 0.026, 0.537],\n",
       "        ...,\n",
       "        [0.   , 0.013, 0.029, ..., 0.   , 0.541, 0.353],\n",
       "        [0.06 , 0.02 , 0.046, ..., 0.048, 0.   , 0.761],\n",
       "        [0.114, 0.083, 0.081, ..., 0.111, 0.037, 0.   ]],\n",
       "\n",
       "       [[0.017, 0.   , 0.141, ..., 0.169, 0.026, 0.27 ],\n",
       "        [0.476, 0.019, 0.   , ..., 0.043, 0.029, 0.22 ],\n",
       "        [0.053, 0.07 , 0.179, ..., 0.076, 0.041, 0.517],\n",
       "        ...,\n",
       "        [0.009, 0.021, 0.039, ..., 0.   , 0.571, 0.221],\n",
       "        [0.094, 0.049, 0.467, ..., 0.068, 0.   , 0.176],\n",
       "        [0.231, 0.076, 0.097, ..., 0.348, 0.05 , 0.   ]]])"
      ]
     },
     "metadata": {},
     "execution_count": 9
    }
   ],
   "source": [
    "src = './network' # root dir of data\n",
    "meta = pd.read_csv('network_list.csv')\n",
    "\n",
    "game = 0\n",
    "loadGame(meta.iloc[game]['NETWORK'], meta.iloc[game]['NUMBER_OF_PARTICIPANTS'])\n"
   ]
  },
  {
   "cell_type": "code",
   "execution_count": null,
   "metadata": {},
   "outputs": [],
   "source": []
  }
 ]
}