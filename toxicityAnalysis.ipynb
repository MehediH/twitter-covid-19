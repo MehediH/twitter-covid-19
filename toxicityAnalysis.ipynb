{
 "metadata": {
  "language_info": {
   "codemirror_mode": {
    "name": "ipython",
    "version": 3
   },
   "file_extension": ".py",
   "mimetype": "text/x-python",
   "name": "python",
   "nbconvert_exporter": "python",
   "pygments_lexer": "ipython3",
   "version": "3.9.2-final"
  },
  "orig_nbformat": 2,
  "kernelspec": {
   "name": "python392jvsc74a57bd0ac59ebe37160ed0dfa835113d9b8498d9f09ceb179beaac4002f036b9467c963",
   "display_name": "Python 3.9.2 64-bit"
  },
  "metadata": {
   "interpreter": {
    "hash": "ac59ebe37160ed0dfa835113d9b8498d9f09ceb179beaac4002f036b9467c963"
   }
  }
 },
 "nbformat": 4,
 "nbformat_minor": 2,
 "cells": [
  {
   "cell_type": "code",
   "execution_count": 3,
   "metadata": {},
   "outputs": [],
   "source": [
    "import pandas as pd\n",
    "import networkx as nx\n",
    "import matplotlib.pyplot as plt\n",
    "\n",
    "from utilities import get_network, transform_df"
   ]
  },
  {
   "source": [
    "# Generating the data\n",
    "\n",
    "Don't run this if `dataset-with-toxicity.csv` has been generated already."
   ],
   "cell_type": "markdown",
   "metadata": {}
  },
  {
   "cell_type": "code",
   "execution_count": 4,
   "metadata": {},
   "outputs": [],
   "source": [
    "# when we merge dataset and put it in csv, these no longer retain their original types\n",
    "# so we need the converters + eval to bring their original form back basically\n",
    "df = pd.read_csv('data/primary-dataset.csv') \n",
    "df[\"hashtags\"] = df[\"hashtags\"].apply(str).apply(lambda x: x.split(\",\"))\n",
    "df[\"to\"] = df[\"to\"].apply(str).apply(lambda x: x.split(\",\"))"
   ]
  },
  {
   "cell_type": "code",
   "execution_count": 6,
   "metadata": {},
   "outputs": [
    {
     "output_type": "execute_result",
     "data": {
      "text/plain": [
       "           screen_name            created_at  \\\n",
       "0            RonniSalt  2020-03-29T00:00:29Z   \n",
       "1          CPHO_Canada  2020-03-29T00:03:14Z   \n",
       "2              RVAwonk  2020-03-29T00:03:41Z   \n",
       "3           byQueenVic  2020-03-29T00:07:37Z   \n",
       "4      ChristinePolon1  2020-03-29T00:07:45Z   \n",
       "...                ...                   ...   \n",
       "23111      CPHO_Canada  2020-04-30T23:49:51Z   \n",
       "23112        holmescnn  2020-04-30T23:50:12Z   \n",
       "23113   OnTheRedCarpet  2020-04-30T23:53:12Z   \n",
       "23114    SenatorDurbin  2020-04-30T23:54:13Z   \n",
       "23115       thecableng  2020-04-30T23:58:51Z   \n",
       "\n",
       "                                                hashtags  followers_count  \\\n",
       "0                                              [covid19]            27898   \n",
       "1      [publichealth, physicaldistancing, covid19, st...           136733   \n",
       "2                                              [covid19]           437022   \n",
       "3                                          [coronavirus]            47206   \n",
       "4                               [coronavirus, washhands]            37473   \n",
       "...                                                  ...              ...   \n",
       "23111         [covid19, physicaldistancing, handwashing]           189620   \n",
       "23112                        [trump, coronavirus, china]            22961   \n",
       "23113                      [covid19, queen, adamlambert]            58594   \n",
       "23114                                          [covid19]           658190   \n",
       "23115                                          [covid19]           483813   \n",
       "\n",
       "       friends_count                                               text  \\\n",
       "0               3544  Good to see the Prime Minister's buddy out the...   \n",
       "1                182  2/4 A note of cautious optimism from British C...   \n",
       "2               3703  CDC is denying a rumor that the agency is prep...   \n",
       "3               3800  Prince William and Kate have described the las...   \n",
       "4               6892  Still no one at my local Walmart sick that wor...   \n",
       "...              ...                                                ...   \n",
       "23111            182  4/5 While we are eager to get out of our house...   \n",
       "23112           2451  #Trump contradicts US intel community by claim...   \n",
       "23113           1178  YOU are the Champions🎶 @QueenWillRock and @ada...   \n",
       "23114           2366  .@SenateDems are ready to go back to work next...   \n",
       "23115           3888  PHOTOS: Humans hide behind rams inside lorries...   \n",
       "\n",
       "       is_quote  is_retweet  favourites_count  retweet_count country_code  \\\n",
       "0         False       False            225775            137          NaN   \n",
       "1         False       False               530            141          NaN   \n",
       "2          True       False             90581            168          NaN   \n",
       "3         False       False              6222             72          NaN   \n",
       "4         False       False            274262             64          NaN   \n",
       "...         ...         ...               ...            ...          ...   \n",
       "23111     False       False               541             54          NaN   \n",
       "23112     False       False              3022            167          NaN   \n",
       "23113     False       False             13496             56          NaN   \n",
       "23114     False       False               576             83          NaN   \n",
       "23115     False       False              2252             72          NaN   \n",
       "\n",
       "       verified lang                                                to  \n",
       "0         False   en                                [@ScottMorrisonMP]  \n",
       "1          True   en                                    [@CPHO_Canada]  \n",
       "2         False   en                                         [@CDCgov]  \n",
       "3          True   en                                         [@PHE_uk]  \n",
       "4         False   en                                [@realDonaldTrump]  \n",
       "...         ...  ...                                               ...  \n",
       "23111      True   en                                    [@CPHO_Canada]  \n",
       "23112      True   en  [@kylieatwood, @ZcohenCNN, @MarquardtA, @Acosta]  \n",
       "23113      True   en              [@adamlambert, @QueenWillRock, @WHO]  \n",
       "23114      True   en                                     [@SenateDems]  \n",
       "23115      True   en                                     [@thecableng]  \n",
       "\n",
       "[23116 rows x 14 columns]"
      ],
      "text/html": "<div>\n<style scoped>\n    .dataframe tbody tr th:only-of-type {\n        vertical-align: middle;\n    }\n\n    .dataframe tbody tr th {\n        vertical-align: top;\n    }\n\n    .dataframe thead th {\n        text-align: right;\n    }\n</style>\n<table border=\"1\" class=\"dataframe\">\n  <thead>\n    <tr style=\"text-align: right;\">\n      <th></th>\n      <th>screen_name</th>\n      <th>created_at</th>\n      <th>hashtags</th>\n      <th>followers_count</th>\n      <th>friends_count</th>\n      <th>text</th>\n      <th>is_quote</th>\n      <th>is_retweet</th>\n      <th>favourites_count</th>\n      <th>retweet_count</th>\n      <th>country_code</th>\n      <th>verified</th>\n      <th>lang</th>\n      <th>to</th>\n    </tr>\n  </thead>\n  <tbody>\n    <tr>\n      <th>0</th>\n      <td>RonniSalt</td>\n      <td>2020-03-29T00:00:29Z</td>\n      <td>[covid19]</td>\n      <td>27898</td>\n      <td>3544</td>\n      <td>Good to see the Prime Minister's buddy out the...</td>\n      <td>False</td>\n      <td>False</td>\n      <td>225775</td>\n      <td>137</td>\n      <td>NaN</td>\n      <td>False</td>\n      <td>en</td>\n      <td>[@ScottMorrisonMP]</td>\n    </tr>\n    <tr>\n      <th>1</th>\n      <td>CPHO_Canada</td>\n      <td>2020-03-29T00:03:14Z</td>\n      <td>[publichealth, physicaldistancing, covid19, st...</td>\n      <td>136733</td>\n      <td>182</td>\n      <td>2/4 A note of cautious optimism from British C...</td>\n      <td>False</td>\n      <td>False</td>\n      <td>530</td>\n      <td>141</td>\n      <td>NaN</td>\n      <td>True</td>\n      <td>en</td>\n      <td>[@CPHO_Canada]</td>\n    </tr>\n    <tr>\n      <th>2</th>\n      <td>RVAwonk</td>\n      <td>2020-03-29T00:03:41Z</td>\n      <td>[covid19]</td>\n      <td>437022</td>\n      <td>3703</td>\n      <td>CDC is denying a rumor that the agency is prep...</td>\n      <td>True</td>\n      <td>False</td>\n      <td>90581</td>\n      <td>168</td>\n      <td>NaN</td>\n      <td>False</td>\n      <td>en</td>\n      <td>[@CDCgov]</td>\n    </tr>\n    <tr>\n      <th>3</th>\n      <td>byQueenVic</td>\n      <td>2020-03-29T00:07:37Z</td>\n      <td>[coronavirus]</td>\n      <td>47206</td>\n      <td>3800</td>\n      <td>Prince William and Kate have described the las...</td>\n      <td>False</td>\n      <td>False</td>\n      <td>6222</td>\n      <td>72</td>\n      <td>NaN</td>\n      <td>True</td>\n      <td>en</td>\n      <td>[@PHE_uk]</td>\n    </tr>\n    <tr>\n      <th>4</th>\n      <td>ChristinePolon1</td>\n      <td>2020-03-29T00:07:45Z</td>\n      <td>[coronavirus, washhands]</td>\n      <td>37473</td>\n      <td>6892</td>\n      <td>Still no one at my local Walmart sick that wor...</td>\n      <td>False</td>\n      <td>False</td>\n      <td>274262</td>\n      <td>64</td>\n      <td>NaN</td>\n      <td>False</td>\n      <td>en</td>\n      <td>[@realDonaldTrump]</td>\n    </tr>\n    <tr>\n      <th>...</th>\n      <td>...</td>\n      <td>...</td>\n      <td>...</td>\n      <td>...</td>\n      <td>...</td>\n      <td>...</td>\n      <td>...</td>\n      <td>...</td>\n      <td>...</td>\n      <td>...</td>\n      <td>...</td>\n      <td>...</td>\n      <td>...</td>\n      <td>...</td>\n    </tr>\n    <tr>\n      <th>23111</th>\n      <td>CPHO_Canada</td>\n      <td>2020-04-30T23:49:51Z</td>\n      <td>[covid19, physicaldistancing, handwashing]</td>\n      <td>189620</td>\n      <td>182</td>\n      <td>4/5 While we are eager to get out of our house...</td>\n      <td>False</td>\n      <td>False</td>\n      <td>541</td>\n      <td>54</td>\n      <td>NaN</td>\n      <td>True</td>\n      <td>en</td>\n      <td>[@CPHO_Canada]</td>\n    </tr>\n    <tr>\n      <th>23112</th>\n      <td>holmescnn</td>\n      <td>2020-04-30T23:50:12Z</td>\n      <td>[trump, coronavirus, china]</td>\n      <td>22961</td>\n      <td>2451</td>\n      <td>#Trump contradicts US intel community by claim...</td>\n      <td>False</td>\n      <td>False</td>\n      <td>3022</td>\n      <td>167</td>\n      <td>NaN</td>\n      <td>True</td>\n      <td>en</td>\n      <td>[@kylieatwood, @ZcohenCNN, @MarquardtA, @Acosta]</td>\n    </tr>\n    <tr>\n      <th>23113</th>\n      <td>OnTheRedCarpet</td>\n      <td>2020-04-30T23:53:12Z</td>\n      <td>[covid19, queen, adamlambert]</td>\n      <td>58594</td>\n      <td>1178</td>\n      <td>YOU are the Champions🎶 @QueenWillRock and @ada...</td>\n      <td>False</td>\n      <td>False</td>\n      <td>13496</td>\n      <td>56</td>\n      <td>NaN</td>\n      <td>True</td>\n      <td>en</td>\n      <td>[@adamlambert, @QueenWillRock, @WHO]</td>\n    </tr>\n    <tr>\n      <th>23114</th>\n      <td>SenatorDurbin</td>\n      <td>2020-04-30T23:54:13Z</td>\n      <td>[covid19]</td>\n      <td>658190</td>\n      <td>2366</td>\n      <td>.@SenateDems are ready to go back to work next...</td>\n      <td>False</td>\n      <td>False</td>\n      <td>576</td>\n      <td>83</td>\n      <td>NaN</td>\n      <td>True</td>\n      <td>en</td>\n      <td>[@SenateDems]</td>\n    </tr>\n    <tr>\n      <th>23115</th>\n      <td>thecableng</td>\n      <td>2020-04-30T23:58:51Z</td>\n      <td>[covid19]</td>\n      <td>483813</td>\n      <td>3888</td>\n      <td>PHOTOS: Humans hide behind rams inside lorries...</td>\n      <td>False</td>\n      <td>False</td>\n      <td>2252</td>\n      <td>72</td>\n      <td>NaN</td>\n      <td>True</td>\n      <td>en</td>\n      <td>[@thecableng]</td>\n    </tr>\n  </tbody>\n</table>\n<p>23116 rows × 14 columns</p>\n</div>"
     },
     "metadata": {},
     "execution_count": 6
    }
   ],
   "source": [
    "df"
   ]
  },
  {
   "source": [
    "# Toxicity analysis\n",
    "\n",
    "## Generating toxicity \n",
    "\n",
    "** Only run if toxicity dataset hasn't been generated before. **"
   ],
   "cell_type": "markdown",
   "metadata": {}
  },
  {
   "cell_type": "code",
   "execution_count": 11,
   "metadata": {},
   "outputs": [],
   "source": [
    "from googleapiclient import discovery\n",
    "import json\n",
    "import time\n",
    "\n",
    "API_KEY = 'PUT_API_KEY_HERE' # see https://developers.perspectiveapi.com/s/docs-get-started to get API key\n",
    "\n",
    "client = discovery.build(\n",
    "  \"commentanalyzer\",\n",
    "  \"v4\",\n",
    "  developerKey=API_KEY,\n",
    "  discoveryServiceUrl=\"https://commentanalyzer.googleapis.com/$discovery/rest?version=v1alpha1\",\n",
    "  static_discovery=False,\n",
    ")\n",
    "\n",
    "# Given a text body, makes request to the Perspective API and returns\n",
    "# toxicity score\n",
    "def getToxicity(text):\n",
    "    analyze_request = {\n",
    "        'comment': { 'text': text },\n",
    "        'requestedAttributes': {'TOXICITY': {}},\n",
    "        'languages': [\"en\"]\n",
    "    }\n",
    "\n",
    "    response = client.comments().analyze(body=analyze_request).execute()\n",
    "    # print(json.dumps(response, indent=2))\n",
    "\n",
    "    return response[\"attributeScores\"][\"TOXICITY\"][\"summaryScore\"][\"value\"]"
   ]
  },
  {
   "cell_type": "code",
   "execution_count": 7,
   "metadata": {
    "tags": []
   },
   "outputs": [],
   "source": [
    "# Only run if toxicity has been previously computed \n",
    "# THIS TAKES 40+ MINUTES!\n",
    "\n",
    "# Iterates through each tweet in the DataFrame, gets its toxicity score,\n",
    "# and stores it in the `toxicity` column\n",
    "# We only have 10QPS limit for the API, so this makes at most 10 requests\n",
    "# per second, and sleeps whenever necessary.\n",
    "\n",
    "# toxicityDf = df\n",
    "# toxicityDf[\"toxicity\"] = 0\n",
    "# i = 0\n",
    "# j = 0\n",
    "# start = time.time()\n",
    "# for index, row in toxicityDf.iterrows():\n",
    "#     toxicityDf.loc[index, 'toxicity'] = getToxicity(row[\"text\"])\n",
    "    \n",
    "#     i += 1\n",
    "#     end = time.time()\n",
    "#     if(end - start < 1 and i == 9):\n",
    "#         time.sleep(1.0-(end - start))\n",
    "#         start = time.time()\n",
    "#         i = 0\n",
    "\n",
    "#     j+=1\n",
    "#     print(f\"processed {j}\")\n",
    "\n",
    "# toxicityDf.to_csv(\"data/dataset-with-toxicity.csv\", index=False)"
   ]
  },
  {
   "cell_type": "code",
   "execution_count": 12,
   "metadata": {},
   "outputs": [
    {
     "output_type": "execute_result",
     "data": {
      "text/plain": [
       "18550"
      ]
     },
     "metadata": {},
     "execution_count": 12
    }
   ],
   "source": [
    "toxicityDf = pd.read_csv('dataset-with-toxicity.csv') \n",
    "toxicityDf[\"hashtags\"] = toxicityDf[\"hashtags\"].apply(str).apply(lambda x: x.split(\",\"))\n",
    "toxicityDf[\"to\"] = toxicityDf[\"to\"].apply(str).apply(lambda x: x.split(\",\"))\n",
    "\n",
    "G = get_network(toxicityDf)\n",
    "\n",
    "G.number_of_nodes()"
   ]
  },
  {
   "cell_type": "code",
   "execution_count": 13,
   "metadata": {},
   "outputs": [
    {
     "output_type": "execute_result",
     "data": {
      "text/plain": [
       "2407"
      ]
     },
     "metadata": {},
     "execution_count": 13
    }
   ],
   "source": [
    "remove = [node for node, degree in dict(G.degree()).items() if degree < 5]\n",
    "G.remove_nodes_from(remove)\n",
    "G.number_of_nodes()"
   ]
  },
  {
   "cell_type": "code",
   "execution_count": 14,
   "metadata": {
    "tags": []
   },
   "outputs": [],
   "source": [
    "for node in G.nodes():\n",
    "    in_data = G.in_edges(node, data=True)\n",
    "    out_data = G.out_edges(node, data=True)\n",
    "\n",
    "    incoming_toxicity = sum(i[2][\"toxicity\"] for i in in_data)\n",
    "    outgoing_toxicity = sum(i[2][\"toxicity\"] for i in out_data)\n",
    "\n",
    "    in_degree = len(in_data) if len(in_data) != 0 else 1\n",
    "    out_degree = len(out_data) if len(out_data) != 0 else 1\n",
    "\n",
    "    avg_in_tox = incoming_toxicity\n",
    "    avg_out_tox = outgoing_toxicity\n",
    "\n",
    "    G.nodes[node]['avg_in_toxicity'] = avg_in_tox / 100\n",
    "    G.nodes[node]['avg_out_toxicity'] = avg_out_tox / 100\n",
    "    G.nodes[node]['total_avg_toxicity'] = (avg_in_tox+avg_out_tox)\n"
   ]
  },
  {
   "cell_type": "code",
   "execution_count": 15,
   "metadata": {},
   "outputs": [
    {
     "output_type": "execute_result",
     "data": {
      "text/plain": [
       "({'avg_in_toxicity': 0.6149383209699996,\n",
       "  'avg_out_toxicity': 0.0,\n",
       "  'total_avg_toxicity': 61.49383209699996},\n",
       " {'avg_in_toxicity': 0.05226664864999999,\n",
       "  'avg_out_toxicity': 0.0,\n",
       "  'total_avg_toxicity': 5.226664864999999},\n",
       " {'avg_in_toxicity': 0.16042747779000002,\n",
       "  'avg_out_toxicity': 0.0,\n",
       "  'total_avg_toxicity': 16.042747779000003})"
      ]
     },
     "metadata": {},
     "execution_count": 15
    }
   ],
   "source": [
    "# Average toxicities of the politicans \n",
    "\n",
    "G.nodes[\"@realDonaldTrump\"], G.nodes[\"@BarackObama\"], G.nodes[\"@narendramodi\"]"
   ]
  },
  {
   "source": [
    "### Correlation between no. of tweets and toxicity\n",
    "\n",
    "Groups users by the number of tweets they have in the dataset and averages the toxicity. "
   ],
   "cell_type": "markdown",
   "metadata": {}
  },
  {
   "cell_type": "code",
   "execution_count": 16,
   "metadata": {
    "tags": []
   },
   "outputs": [],
   "source": [
    "users = dict(toxicityDf[\"screen_name\"].value_counts())\n",
    "counts = {}\n",
    "\n",
    "for user in users:\n",
    "    count = users[user]\n",
    "    if count in counts:\n",
    "        t = counts[count]\n",
    "        t.append(user)\n",
    "\n",
    "        counts[count] = t\n",
    "    else:\n",
    "        counts[count] = [user]\n",
    "\n",
    "toxicityByCount = {}\n",
    "\n",
    "for count in counts:\n",
    "    count_users = counts[count]\n",
    "\n",
    "    toxicities = toxicityDf[toxicityDf['screen_name'].isin(count_users)][\"toxicity\"]\n",
    "\n",
    "    toxicityByCount[count] = toxicities.mean()\n"
   ]
  },
  {
   "source": [
    "As seen below, there's no correlation."
   ],
   "cell_type": "markdown",
   "metadata": {}
  },
  {
   "cell_type": "code",
   "execution_count": 19,
   "metadata": {},
   "outputs": [
    {
     "output_type": "execute_result",
     "data": {
      "text/plain": [
       "[<matplotlib.lines.Line2D at 0x1e5ef8d97f0>]"
      ]
     },
     "metadata": {},
     "execution_count": 19
    },
    {
     "output_type": "display_data",
     "data": {
      "text/plain": "<Figure size 432x288 with 1 Axes>",
      "image/svg+xml": "<?xml version=\"1.0\" encoding=\"utf-8\" standalone=\"no\"?>\r\n<!DOCTYPE svg PUBLIC \"-//W3C//DTD SVG 1.1//EN\"\r\n  \"http://www.w3.org/Graphics/SVG/1.1/DTD/svg11.dtd\">\r\n<!-- Created with matplotlib (https://matplotlib.org/) -->\r\n<svg height=\"248.518125pt\" version=\"1.1\" viewBox=\"0 0 372.103125 248.518125\" width=\"372.103125pt\" xmlns=\"http://www.w3.org/2000/svg\" xmlns:xlink=\"http://www.w3.org/1999/xlink\">\r\n <metadata>\r\n  <rdf:RDF xmlns:cc=\"http://creativecommons.org/ns#\" xmlns:dc=\"http://purl.org/dc/elements/1.1/\" xmlns:rdf=\"http://www.w3.org/1999/02/22-rdf-syntax-ns#\">\r\n   <cc:Work>\r\n    <dc:type rdf:resource=\"http://purl.org/dc/dcmitype/StillImage\"/>\r\n    <dc:date>2021-04-04T10:35:55.644012</dc:date>\r\n    <dc:format>image/svg+xml</dc:format>\r\n    <dc:creator>\r\n     <cc:Agent>\r\n      <dc:title>Matplotlib v3.3.4, https://matplotlib.org/</dc:title>\r\n     </cc:Agent>\r\n    </dc:creator>\r\n   </cc:Work>\r\n  </rdf:RDF>\r\n </metadata>\r\n <defs>\r\n  <style type=\"text/css\">*{stroke-linecap:butt;stroke-linejoin:round;}</style>\r\n </defs>\r\n <g id=\"figure_1\">\r\n  <g id=\"patch_1\">\r\n   <path d=\"M 0 248.518125 \r\nL 372.103125 248.518125 \r\nL 372.103125 0 \r\nL 0 0 \r\nz\r\n\" style=\"fill:none;\"/>\r\n  </g>\r\n  <g id=\"axes_1\">\r\n   <g id=\"patch_2\">\r\n    <path d=\"M 30.103125 224.64 \r\nL 364.903125 224.64 \r\nL 364.903125 7.2 \r\nL 30.103125 7.2 \r\nz\r\n\" style=\"fill:#ffffff;\"/>\r\n   </g>\r\n   <g id=\"matplotlib.axis_1\">\r\n    <g id=\"xtick_1\">\r\n     <g id=\"line2d_1\">\r\n      <defs>\r\n       <path d=\"M 0 0 \r\nL 0 3.5 \r\n\" id=\"m14a339a450\" style=\"stroke:#000000;stroke-width:0.8;\"/>\r\n      </defs>\r\n      <g>\r\n       <use style=\"stroke:#000000;stroke-width:0.8;\" x=\"44.703936\" xlink:href=\"#m14a339a450\" y=\"224.64\"/>\r\n      </g>\r\n     </g>\r\n     <g id=\"text_1\">\r\n      <!-- 0 -->\r\n      <g transform=\"translate(41.522686 239.238437)scale(0.1 -0.1)\">\r\n       <defs>\r\n        <path d=\"M 31.78125 66.40625 \r\nQ 24.171875 66.40625 20.328125 58.90625 \r\nQ 16.5 51.421875 16.5 36.375 \r\nQ 16.5 21.390625 20.328125 13.890625 \r\nQ 24.171875 6.390625 31.78125 6.390625 \r\nQ 39.453125 6.390625 43.28125 13.890625 \r\nQ 47.125 21.390625 47.125 36.375 \r\nQ 47.125 51.421875 43.28125 58.90625 \r\nQ 39.453125 66.40625 31.78125 66.40625 \r\nz\r\nM 31.78125 74.21875 \r\nQ 44.046875 74.21875 50.515625 64.515625 \r\nQ 56.984375 54.828125 56.984375 36.375 \r\nQ 56.984375 17.96875 50.515625 8.265625 \r\nQ 44.046875 -1.421875 31.78125 -1.421875 \r\nQ 19.53125 -1.421875 13.0625 8.265625 \r\nQ 6.59375 17.96875 6.59375 36.375 \r\nQ 6.59375 54.828125 13.0625 64.515625 \r\nQ 19.53125 74.21875 31.78125 74.21875 \r\nz\r\n\" id=\"DejaVuSans-48\"/>\r\n       </defs>\r\n       <use xlink:href=\"#DejaVuSans-48\"/>\r\n      </g>\r\n     </g>\r\n    </g>\r\n    <g id=\"xtick_2\">\r\n     <g id=\"line2d_2\">\r\n      <g>\r\n       <use style=\"stroke:#000000;stroke-width:0.8;\" x=\"106.440982\" xlink:href=\"#m14a339a450\" y=\"224.64\"/>\r\n      </g>\r\n     </g>\r\n     <g id=\"text_2\">\r\n      <!-- 100 -->\r\n      <g transform=\"translate(96.897232 239.238437)scale(0.1 -0.1)\">\r\n       <defs>\r\n        <path d=\"M 12.40625 8.296875 \r\nL 28.515625 8.296875 \r\nL 28.515625 63.921875 \r\nL 10.984375 60.40625 \r\nL 10.984375 69.390625 \r\nL 28.421875 72.90625 \r\nL 38.28125 72.90625 \r\nL 38.28125 8.296875 \r\nL 54.390625 8.296875 \r\nL 54.390625 0 \r\nL 12.40625 0 \r\nz\r\n\" id=\"DejaVuSans-49\"/>\r\n       </defs>\r\n       <use xlink:href=\"#DejaVuSans-49\"/>\r\n       <use x=\"63.623047\" xlink:href=\"#DejaVuSans-48\"/>\r\n       <use x=\"127.246094\" xlink:href=\"#DejaVuSans-48\"/>\r\n      </g>\r\n     </g>\r\n    </g>\r\n    <g id=\"xtick_3\">\r\n     <g id=\"line2d_3\">\r\n      <g>\r\n       <use style=\"stroke:#000000;stroke-width:0.8;\" x=\"168.178028\" xlink:href=\"#m14a339a450\" y=\"224.64\"/>\r\n      </g>\r\n     </g>\r\n     <g id=\"text_3\">\r\n      <!-- 200 -->\r\n      <g transform=\"translate(158.634278 239.238437)scale(0.1 -0.1)\">\r\n       <defs>\r\n        <path d=\"M 19.1875 8.296875 \r\nL 53.609375 8.296875 \r\nL 53.609375 0 \r\nL 7.328125 0 \r\nL 7.328125 8.296875 \r\nQ 12.9375 14.109375 22.625 23.890625 \r\nQ 32.328125 33.6875 34.8125 36.53125 \r\nQ 39.546875 41.84375 41.421875 45.53125 \r\nQ 43.3125 49.21875 43.3125 52.78125 \r\nQ 43.3125 58.59375 39.234375 62.25 \r\nQ 35.15625 65.921875 28.609375 65.921875 \r\nQ 23.96875 65.921875 18.8125 64.3125 \r\nQ 13.671875 62.703125 7.8125 59.421875 \r\nL 7.8125 69.390625 \r\nQ 13.765625 71.78125 18.9375 73 \r\nQ 24.125 74.21875 28.421875 74.21875 \r\nQ 39.75 74.21875 46.484375 68.546875 \r\nQ 53.21875 62.890625 53.21875 53.421875 \r\nQ 53.21875 48.921875 51.53125 44.890625 \r\nQ 49.859375 40.875 45.40625 35.40625 \r\nQ 44.1875 33.984375 37.640625 27.21875 \r\nQ 31.109375 20.453125 19.1875 8.296875 \r\nz\r\n\" id=\"DejaVuSans-50\"/>\r\n       </defs>\r\n       <use xlink:href=\"#DejaVuSans-50\"/>\r\n       <use x=\"63.623047\" xlink:href=\"#DejaVuSans-48\"/>\r\n       <use x=\"127.246094\" xlink:href=\"#DejaVuSans-48\"/>\r\n      </g>\r\n     </g>\r\n    </g>\r\n    <g id=\"xtick_4\">\r\n     <g id=\"line2d_4\">\r\n      <g>\r\n       <use style=\"stroke:#000000;stroke-width:0.8;\" x=\"229.915074\" xlink:href=\"#m14a339a450\" y=\"224.64\"/>\r\n      </g>\r\n     </g>\r\n     <g id=\"text_4\">\r\n      <!-- 300 -->\r\n      <g transform=\"translate(220.371324 239.238437)scale(0.1 -0.1)\">\r\n       <defs>\r\n        <path d=\"M 40.578125 39.3125 \r\nQ 47.65625 37.796875 51.625 33 \r\nQ 55.609375 28.21875 55.609375 21.1875 \r\nQ 55.609375 10.40625 48.1875 4.484375 \r\nQ 40.765625 -1.421875 27.09375 -1.421875 \r\nQ 22.515625 -1.421875 17.65625 -0.515625 \r\nQ 12.796875 0.390625 7.625 2.203125 \r\nL 7.625 11.71875 \r\nQ 11.71875 9.328125 16.59375 8.109375 \r\nQ 21.484375 6.890625 26.8125 6.890625 \r\nQ 36.078125 6.890625 40.9375 10.546875 \r\nQ 45.796875 14.203125 45.796875 21.1875 \r\nQ 45.796875 27.640625 41.28125 31.265625 \r\nQ 36.765625 34.90625 28.71875 34.90625 \r\nL 20.21875 34.90625 \r\nL 20.21875 43.015625 \r\nL 29.109375 43.015625 \r\nQ 36.375 43.015625 40.234375 45.921875 \r\nQ 44.09375 48.828125 44.09375 54.296875 \r\nQ 44.09375 59.90625 40.109375 62.90625 \r\nQ 36.140625 65.921875 28.71875 65.921875 \r\nQ 24.65625 65.921875 20.015625 65.03125 \r\nQ 15.375 64.15625 9.8125 62.3125 \r\nL 9.8125 71.09375 \r\nQ 15.4375 72.65625 20.34375 73.4375 \r\nQ 25.25 74.21875 29.59375 74.21875 \r\nQ 40.828125 74.21875 47.359375 69.109375 \r\nQ 53.90625 64.015625 53.90625 55.328125 \r\nQ 53.90625 49.265625 50.4375 45.09375 \r\nQ 46.96875 40.921875 40.578125 39.3125 \r\nz\r\n\" id=\"DejaVuSans-51\"/>\r\n       </defs>\r\n       <use xlink:href=\"#DejaVuSans-51\"/>\r\n       <use x=\"63.623047\" xlink:href=\"#DejaVuSans-48\"/>\r\n       <use x=\"127.246094\" xlink:href=\"#DejaVuSans-48\"/>\r\n      </g>\r\n     </g>\r\n    </g>\r\n    <g id=\"xtick_5\">\r\n     <g id=\"line2d_5\">\r\n      <g>\r\n       <use style=\"stroke:#000000;stroke-width:0.8;\" x=\"291.65212\" xlink:href=\"#m14a339a450\" y=\"224.64\"/>\r\n      </g>\r\n     </g>\r\n     <g id=\"text_5\">\r\n      <!-- 400 -->\r\n      <g transform=\"translate(282.10837 239.238437)scale(0.1 -0.1)\">\r\n       <defs>\r\n        <path d=\"M 37.796875 64.3125 \r\nL 12.890625 25.390625 \r\nL 37.796875 25.390625 \r\nz\r\nM 35.203125 72.90625 \r\nL 47.609375 72.90625 \r\nL 47.609375 25.390625 \r\nL 58.015625 25.390625 \r\nL 58.015625 17.1875 \r\nL 47.609375 17.1875 \r\nL 47.609375 0 \r\nL 37.796875 0 \r\nL 37.796875 17.1875 \r\nL 4.890625 17.1875 \r\nL 4.890625 26.703125 \r\nz\r\n\" id=\"DejaVuSans-52\"/>\r\n       </defs>\r\n       <use xlink:href=\"#DejaVuSans-52\"/>\r\n       <use x=\"63.623047\" xlink:href=\"#DejaVuSans-48\"/>\r\n       <use x=\"127.246094\" xlink:href=\"#DejaVuSans-48\"/>\r\n      </g>\r\n     </g>\r\n    </g>\r\n    <g id=\"xtick_6\">\r\n     <g id=\"line2d_6\">\r\n      <g>\r\n       <use style=\"stroke:#000000;stroke-width:0.8;\" x=\"353.389166\" xlink:href=\"#m14a339a450\" y=\"224.64\"/>\r\n      </g>\r\n     </g>\r\n     <g id=\"text_6\">\r\n      <!-- 500 -->\r\n      <g transform=\"translate(343.845416 239.238437)scale(0.1 -0.1)\">\r\n       <defs>\r\n        <path d=\"M 10.796875 72.90625 \r\nL 49.515625 72.90625 \r\nL 49.515625 64.59375 \r\nL 19.828125 64.59375 \r\nL 19.828125 46.734375 \r\nQ 21.96875 47.46875 24.109375 47.828125 \r\nQ 26.265625 48.1875 28.421875 48.1875 \r\nQ 40.625 48.1875 47.75 41.5 \r\nQ 54.890625 34.8125 54.890625 23.390625 \r\nQ 54.890625 11.625 47.5625 5.09375 \r\nQ 40.234375 -1.421875 26.90625 -1.421875 \r\nQ 22.3125 -1.421875 17.546875 -0.640625 \r\nQ 12.796875 0.140625 7.71875 1.703125 \r\nL 7.71875 11.625 \r\nQ 12.109375 9.234375 16.796875 8.0625 \r\nQ 21.484375 6.890625 26.703125 6.890625 \r\nQ 35.15625 6.890625 40.078125 11.328125 \r\nQ 45.015625 15.765625 45.015625 23.390625 \r\nQ 45.015625 31 40.078125 35.4375 \r\nQ 35.15625 39.890625 26.703125 39.890625 \r\nQ 22.75 39.890625 18.8125 39.015625 \r\nQ 14.890625 38.140625 10.796875 36.28125 \r\nz\r\n\" id=\"DejaVuSans-53\"/>\r\n       </defs>\r\n       <use xlink:href=\"#DejaVuSans-53\"/>\r\n       <use x=\"63.623047\" xlink:href=\"#DejaVuSans-48\"/>\r\n       <use x=\"127.246094\" xlink:href=\"#DejaVuSans-48\"/>\r\n      </g>\r\n     </g>\r\n    </g>\r\n   </g>\r\n   <g id=\"matplotlib.axis_2\">\r\n    <g id=\"ytick_1\">\r\n     <g id=\"line2d_7\">\r\n      <defs>\r\n       <path d=\"M 0 0 \r\nL -3.5 0 \r\n\" id=\"macdf6b47a5\" style=\"stroke:#000000;stroke-width:0.8;\"/>\r\n      </defs>\r\n      <g>\r\n       <use style=\"stroke:#000000;stroke-width:0.8;\" x=\"30.103125\" xlink:href=\"#macdf6b47a5\" y=\"202.401263\"/>\r\n      </g>\r\n     </g>\r\n     <g id=\"text_7\">\r\n      <!-- 0.1 -->\r\n      <g transform=\"translate(7.2 206.200481)scale(0.1 -0.1)\">\r\n       <defs>\r\n        <path d=\"M 10.6875 12.40625 \r\nL 21 12.40625 \r\nL 21 0 \r\nL 10.6875 0 \r\nz\r\n\" id=\"DejaVuSans-46\"/>\r\n       </defs>\r\n       <use xlink:href=\"#DejaVuSans-48\"/>\r\n       <use x=\"63.623047\" xlink:href=\"#DejaVuSans-46\"/>\r\n       <use x=\"95.410156\" xlink:href=\"#DejaVuSans-49\"/>\r\n      </g>\r\n     </g>\r\n    </g>\r\n    <g id=\"ytick_2\">\r\n     <g id=\"line2d_8\">\r\n      <g>\r\n       <use style=\"stroke:#000000;stroke-width:0.8;\" x=\"30.103125\" xlink:href=\"#macdf6b47a5\" y=\"166.923014\"/>\r\n      </g>\r\n     </g>\r\n     <g id=\"text_8\">\r\n      <!-- 0.2 -->\r\n      <g transform=\"translate(7.2 170.722233)scale(0.1 -0.1)\">\r\n       <use xlink:href=\"#DejaVuSans-48\"/>\r\n       <use x=\"63.623047\" xlink:href=\"#DejaVuSans-46\"/>\r\n       <use x=\"95.410156\" xlink:href=\"#DejaVuSans-50\"/>\r\n      </g>\r\n     </g>\r\n    </g>\r\n    <g id=\"ytick_3\">\r\n     <g id=\"line2d_9\">\r\n      <g>\r\n       <use style=\"stroke:#000000;stroke-width:0.8;\" x=\"30.103125\" xlink:href=\"#macdf6b47a5\" y=\"131.444766\"/>\r\n      </g>\r\n     </g>\r\n     <g id=\"text_9\">\r\n      <!-- 0.3 -->\r\n      <g transform=\"translate(7.2 135.243985)scale(0.1 -0.1)\">\r\n       <use xlink:href=\"#DejaVuSans-48\"/>\r\n       <use x=\"63.623047\" xlink:href=\"#DejaVuSans-46\"/>\r\n       <use x=\"95.410156\" xlink:href=\"#DejaVuSans-51\"/>\r\n      </g>\r\n     </g>\r\n    </g>\r\n    <g id=\"ytick_4\">\r\n     <g id=\"line2d_10\">\r\n      <g>\r\n       <use style=\"stroke:#000000;stroke-width:0.8;\" x=\"30.103125\" xlink:href=\"#macdf6b47a5\" y=\"95.966518\"/>\r\n      </g>\r\n     </g>\r\n     <g id=\"text_10\">\r\n      <!-- 0.4 -->\r\n      <g transform=\"translate(7.2 99.765736)scale(0.1 -0.1)\">\r\n       <use xlink:href=\"#DejaVuSans-48\"/>\r\n       <use x=\"63.623047\" xlink:href=\"#DejaVuSans-46\"/>\r\n       <use x=\"95.410156\" xlink:href=\"#DejaVuSans-52\"/>\r\n      </g>\r\n     </g>\r\n    </g>\r\n    <g id=\"ytick_5\">\r\n     <g id=\"line2d_11\">\r\n      <g>\r\n       <use style=\"stroke:#000000;stroke-width:0.8;\" x=\"30.103125\" xlink:href=\"#macdf6b47a5\" y=\"60.488269\"/>\r\n      </g>\r\n     </g>\r\n     <g id=\"text_11\">\r\n      <!-- 0.5 -->\r\n      <g transform=\"translate(7.2 64.287488)scale(0.1 -0.1)\">\r\n       <use xlink:href=\"#DejaVuSans-48\"/>\r\n       <use x=\"63.623047\" xlink:href=\"#DejaVuSans-46\"/>\r\n       <use x=\"95.410156\" xlink:href=\"#DejaVuSans-53\"/>\r\n      </g>\r\n     </g>\r\n    </g>\r\n    <g id=\"ytick_6\">\r\n     <g id=\"line2d_12\">\r\n      <g>\r\n       <use style=\"stroke:#000000;stroke-width:0.8;\" x=\"30.103125\" xlink:href=\"#macdf6b47a5\" y=\"25.010021\"/>\r\n      </g>\r\n     </g>\r\n     <g id=\"text_12\">\r\n      <!-- 0.6 -->\r\n      <g transform=\"translate(7.2 28.80924)scale(0.1 -0.1)\">\r\n       <defs>\r\n        <path d=\"M 33.015625 40.375 \r\nQ 26.375 40.375 22.484375 35.828125 \r\nQ 18.609375 31.296875 18.609375 23.390625 \r\nQ 18.609375 15.53125 22.484375 10.953125 \r\nQ 26.375 6.390625 33.015625 6.390625 \r\nQ 39.65625 6.390625 43.53125 10.953125 \r\nQ 47.40625 15.53125 47.40625 23.390625 \r\nQ 47.40625 31.296875 43.53125 35.828125 \r\nQ 39.65625 40.375 33.015625 40.375 \r\nz\r\nM 52.59375 71.296875 \r\nL 52.59375 62.3125 \r\nQ 48.875 64.0625 45.09375 64.984375 \r\nQ 41.3125 65.921875 37.59375 65.921875 \r\nQ 27.828125 65.921875 22.671875 59.328125 \r\nQ 17.53125 52.734375 16.796875 39.40625 \r\nQ 19.671875 43.65625 24.015625 45.921875 \r\nQ 28.375 48.1875 33.59375 48.1875 \r\nQ 44.578125 48.1875 50.953125 41.515625 \r\nQ 57.328125 34.859375 57.328125 23.390625 \r\nQ 57.328125 12.15625 50.6875 5.359375 \r\nQ 44.046875 -1.421875 33.015625 -1.421875 \r\nQ 20.359375 -1.421875 13.671875 8.265625 \r\nQ 6.984375 17.96875 6.984375 36.375 \r\nQ 6.984375 53.65625 15.1875 63.9375 \r\nQ 23.390625 74.21875 37.203125 74.21875 \r\nQ 40.921875 74.21875 44.703125 73.484375 \r\nQ 48.484375 72.75 52.59375 71.296875 \r\nz\r\n\" id=\"DejaVuSans-54\"/>\r\n       </defs>\r\n       <use xlink:href=\"#DejaVuSans-48\"/>\r\n       <use x=\"63.623047\" xlink:href=\"#DejaVuSans-46\"/>\r\n       <use x=\"95.410156\" xlink:href=\"#DejaVuSans-54\"/>\r\n      </g>\r\n     </g>\r\n    </g>\r\n   </g>\r\n   <g id=\"line2d_13\">\r\n    <path clip-path=\"url(#p233819b9fa)\" d=\"M 349.684943 207.746617 \r\nL 315.112197 183.202365 \r\nL 176.821215 207.077537 \r\nL 163.856435 189.154135 \r\nL 158.300101 191.857949 \r\nL 152.743767 203.251258 \r\nL 145.335321 204.259845 \r\nL 144.10058 204.403387 \r\nL 118.788391 200.41433 \r\nL 113.849428 204.048556 \r\nL 106.440982 207.583592 \r\nL 105.823612 209.971775 \r\nL 105.206241 17.083636 \r\nL 102.73676 196.860201 \r\nL 102.119389 203.522215 \r\nL 101.502019 207.727858 \r\nL 99.649907 214.756364 \r\nL 96.563055 190.886656 \r\nL 89.154609 212.456514 \r\nL 88.537239 189.446762 \r\nL 86.685128 206.641034 \r\nL 84.215646 192.525082 \r\nL 82.980905 204.45477 \r\nL 82.363534 155.687187 \r\nL 81.746164 213.83176 \r\nL 81.128793 202.135436 \r\nL 79.276682 196.288224 \r\nL 78.659312 162.289906 \r\nL 78.041941 197.18361 \r\nL 77.424571 201.572579 \r\nL 76.18983 195.504511 \r\nL 75.572459 190.554155 \r\nL 74.955089 186.343314 \r\nL 73.720348 209.57087 \r\nL 73.102977 168.824356 \r\nL 72.485607 200.150057 \r\nL 71.868237 184.93024 \r\nL 71.250866 199.612022 \r\nL 70.633496 201.289685 \r\nL 70.016125 184.008784 \r\nL 69.398755 198.091589 \r\nL 68.781384 160.951423 \r\nL 68.164014 196.937498 \r\nL 66.929273 174.322134 \r\nL 66.311902 197.324655 \r\nL 65.694532 175.476296 \r\nL 65.077162 184.419322 \r\nL 64.459791 195.640389 \r\nL 63.842421 212.935418 \r\nL 63.22505 209.604722 \r\nL 62.60768 160.741927 \r\nL 61.990309 186.870594 \r\nL 61.372939 186.454666 \r\nL 60.755568 186.198876 \r\nL 60.138198 181.145822 \r\nL 59.520827 197.527162 \r\nL 58.903457 199.853931 \r\nL 58.286086 182.789855 \r\nL 57.668716 206.963957 \r\nL 57.051346 180.543429 \r\nL 56.433975 190.516469 \r\nL 55.816605 182.182752 \r\nL 55.199234 180.94475 \r\nL 54.581864 183.598501 \r\nL 53.964493 181.70835 \r\nL 53.347123 181.449725 \r\nL 52.729752 191.834631 \r\nL 52.112382 176.243018 \r\nL 51.495011 189.788524 \r\nL 50.877641 187.588617 \r\nL 50.26027 180.525763 \r\nL 49.6429 181.360863 \r\nL 49.02553 185.314656 \r\nL 48.408159 184.287697 \r\nL 47.790789 182.737948 \r\nL 47.173418 183.559799 \r\nL 46.556048 185.323549 \r\nL 45.938677 186.884764 \r\nL 45.321307 186.938374 \r\n\" style=\"fill:none;stroke:#1f77b4;stroke-linecap:square;stroke-width:1.5;\"/>\r\n   </g>\r\n   <g id=\"patch_3\">\r\n    <path d=\"M 30.103125 224.64 \r\nL 30.103125 7.2 \r\n\" style=\"fill:none;stroke:#000000;stroke-linecap:square;stroke-linejoin:miter;stroke-width:0.8;\"/>\r\n   </g>\r\n   <g id=\"patch_4\">\r\n    <path d=\"M 364.903125 224.64 \r\nL 364.903125 7.2 \r\n\" style=\"fill:none;stroke:#000000;stroke-linecap:square;stroke-linejoin:miter;stroke-width:0.8;\"/>\r\n   </g>\r\n   <g id=\"patch_5\">\r\n    <path d=\"M 30.103125 224.64 \r\nL 364.903125 224.64 \r\n\" style=\"fill:none;stroke:#000000;stroke-linecap:square;stroke-linejoin:miter;stroke-width:0.8;\"/>\r\n   </g>\r\n   <g id=\"patch_6\">\r\n    <path d=\"M 30.103125 7.2 \r\nL 364.903125 7.2 \r\n\" style=\"fill:none;stroke:#000000;stroke-linecap:square;stroke-linejoin:miter;stroke-width:0.8;\"/>\r\n   </g>\r\n  </g>\r\n </g>\r\n <defs>\r\n  <clipPath id=\"p233819b9fa\">\r\n   <rect height=\"217.44\" width=\"334.8\" x=\"30.103125\" y=\"7.2\"/>\r\n  </clipPath>\r\n </defs>\r\n</svg>\r\n",
      "image/png": "[encoded data removed]"
     },
     "metadata": {
      "needs_background": "light"
     }
    }
   ],
   "source": [
    "plt.plot(list(toxicityByCount.keys()), list(toxicityByCount.values()))"
   ]
  },
  {
   "cell_type": "code",
   "execution_count": 1,
   "metadata": {},
   "outputs": [],
   "source": [
    "# Toxicity over time for a given user\n",
    "# Given a username, generates the incoming toxicity plot over time for that user \n",
    "\n",
    "def getIncomingToxicityGivenUser(user):\n",
    "    mask = toxicityDf[\"to\"].apply(lambda x: user in x)\n",
    "    modiDf = toxicityDf[mask]\n",
    "\n",
    "    modiDf['created_at'] = pd.to_datetime(modiDf['created_at'])\n",
    "\n",
    "    modiDf = modiDf.groupby([modiDf['created_at'].dt.date]).mean()\n",
    "    modiDf = modiDf.reset_index()\n",
    "\n",
    "    modiDf[\"created_at\"] = modiDf[\"created_at\"].astype(str)\n",
    "\n",
    "    dates = list(modiDf[\"created_at\"])\n",
    "    toxs = list(modiDf[\"toxicity\"])\n",
    "\n",
    "    plt.plot(dates, toxs, label=f\"toxicity for {user} over time\")\n",
    "    plt.xticks(rotation=90)\n",
    "    plt.xlabel('date',fontsize=14)\n",
    "    plt.ylabel('toxicity',fontsize=14)\n",
    "    plt.legend()"
   ]
  },
  {
   "source": [
    "### Toxicity for @narendramodi\n",
    "\n",
    "We looked at @narendramodi's toxicity in the report and found his network to be more positive than other politicial leaders. \n",
    "\n",
    "As a result, here we look at how the toxicity in his network evolves over the timeframe of the dataset."
   ],
   "cell_type": "markdown",
   "metadata": {}
  },
  {
   "cell_type": "code",
   "execution_count": 2,
   "metadata": {},
   "outputs": [
    {
     "output_type": "error",
     "ename": "NameError",
     "evalue": "name 'toxicityDf' is not defined",
     "traceback": [
      "\u001b[1;31m---------------------------------------------------------------------------\u001b[0m",
      "\u001b[1;31mNameError\u001b[0m                                 Traceback (most recent call last)",
      "\u001b[1;32m<ipython-input-2-5751e018481f>\u001b[0m in \u001b[0;36m<module>\u001b[1;34m\u001b[0m\n\u001b[1;32m----> 1\u001b[1;33m \u001b[0mgetIncomingToxicityGivenUser\u001b[0m\u001b[1;33m(\u001b[0m\u001b[1;34m\"@narendramodi\"\u001b[0m\u001b[1;33m)\u001b[0m\u001b[1;33m\u001b[0m\u001b[1;33m\u001b[0m\u001b[0m\n\u001b[0m",
      "\u001b[1;32m<ipython-input-1-3bc790f7a3ce>\u001b[0m in \u001b[0;36mgetIncomingToxicityGivenUser\u001b[1;34m(user)\u001b[0m\n\u001b[0;32m      3\u001b[0m \u001b[1;33m\u001b[0m\u001b[0m\n\u001b[0;32m      4\u001b[0m \u001b[1;32mdef\u001b[0m \u001b[0mgetIncomingToxicityGivenUser\u001b[0m\u001b[1;33m(\u001b[0m\u001b[0muser\u001b[0m\u001b[1;33m)\u001b[0m\u001b[1;33m:\u001b[0m\u001b[1;33m\u001b[0m\u001b[1;33m\u001b[0m\u001b[0m\n\u001b[1;32m----> 5\u001b[1;33m     \u001b[0mmask\u001b[0m \u001b[1;33m=\u001b[0m \u001b[0mtoxicityDf\u001b[0m\u001b[1;33m[\u001b[0m\u001b[1;34m\"to\"\u001b[0m\u001b[1;33m]\u001b[0m\u001b[1;33m.\u001b[0m\u001b[0mapply\u001b[0m\u001b[1;33m(\u001b[0m\u001b[1;32mlambda\u001b[0m \u001b[0mx\u001b[0m\u001b[1;33m:\u001b[0m \u001b[0muser\u001b[0m \u001b[1;32min\u001b[0m \u001b[0mx\u001b[0m\u001b[1;33m)\u001b[0m\u001b[1;33m\u001b[0m\u001b[1;33m\u001b[0m\u001b[0m\n\u001b[0m\u001b[0;32m      6\u001b[0m     \u001b[0mmodiDf\u001b[0m \u001b[1;33m=\u001b[0m \u001b[0mtoxicityDf\u001b[0m\u001b[1;33m[\u001b[0m\u001b[0mmask\u001b[0m\u001b[1;33m]\u001b[0m\u001b[1;33m\u001b[0m\u001b[1;33m\u001b[0m\u001b[0m\n\u001b[0;32m      7\u001b[0m \u001b[1;33m\u001b[0m\u001b[0m\n",
      "\u001b[1;31mNameError\u001b[0m: name 'toxicityDf' is not defined"
     ]
    }
   ],
   "source": [
    "getIncomingToxicityGivenUser(\"@narendramodi\")"
   ]
  },
  {
   "cell_type": "code",
   "execution_count": null,
   "metadata": {},
   "outputs": [],
   "source": []
  }
 ]
}