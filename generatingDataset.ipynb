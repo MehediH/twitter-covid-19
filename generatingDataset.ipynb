{
 "metadata": {
  "language_info": {
   "codemirror_mode": {
    "name": "ipython",
    "version": 3
   },
   "file_extension": ".py",
   "mimetype": "text/x-python",
   "name": "python",
   "nbconvert_exporter": "python",
   "pygments_lexer": "ipython3",
   "version": "3.9.2-final"
  },
  "orig_nbformat": 2,
  "kernelspec": {
   "name": "python392jvsc74a57bd0ac59ebe37160ed0dfa835113d9b8498d9f09ceb179beaac4002f036b9467c963",
   "display_name": "Python 3.9.2 64-bit"
  },
  "metadata": {
   "interpreter": {
    "hash": "ac59ebe37160ed0dfa835113d9b8498d9f09ceb179beaac4002f036b9467c963"
   }
  }
 },
 "nbformat": 4,
 "nbformat_minor": 2,
 "cells": [
  {
   "cell_type": "code",
   "execution_count": 2,
   "metadata": {},
   "outputs": [],
   "source": [
    "import pandas as pd\n",
    "import networkx as nx\n",
    "import math\n",
    "import matplotlib.pyplot as plt\n",
    "\n",
    "from utilities import transform_df, get_network, get_weakly_gcc, plot_network, create_gephi_from_network"
   ]
  },
  {
   "source": [
    "# Read merged dataset and prune\n",
    "\n",
    "Pruning is mainly done by the `transform_df()` function in `utilities`. "
   ],
   "cell_type": "markdown",
   "metadata": {}
  },
  {
   "cell_type": "code",
   "execution_count": 4,
   "metadata": {},
   "outputs": [
    {
     "output_type": "stream",
     "name": "stderr",
     "text": [
      "c:\\projects\\twitter-covid-19\\utilities.py:49: SettingWithCopyWarning: \n",
      "A value is trying to be set on a copy of a slice from a DataFrame.\n",
      "Try using .loc[row_indexer,col_indexer] = value instead\n",
      "\n",
      "See the caveats in the documentation: https://pandas.pydata.org/pandas-docs/stable/user_guide/indexing.html#returning-a-view-versus-a-copy\n",
      "  edges_df[\"hashtags\"] = edges_df[\"hashtags\"].apply(lambda x: \",\".join(x))\n",
      "c:\\projects\\twitter-covid-19\\utilities.py:50: SettingWithCopyWarning: \n",
      "A value is trying to be set on a copy of a slice from a DataFrame.\n",
      "Try using .loc[row_indexer,col_indexer] = value instead\n",
      "\n",
      "See the caveats in the documentation: https://pandas.pydata.org/pandas-docs/stable/user_guide/indexing.html#returning-a-view-versus-a-copy\n",
      "  edges_df[\"mentions\"] = edges_df[\"mentions\"].apply(lambda x: \",\".join(x))\n",
      "c:\\projects\\twitter-covid-19\\utilities.py:52: SettingWithCopyWarning: \n",
      "A value is trying to be set on a copy of a slice from a DataFrame.\n",
      "Try using .loc[row_indexer,col_indexer] = value instead\n",
      "\n",
      "See the caveats in the documentation: https://pandas.pydata.org/pandas-docs/stable/user_guide/indexing.html#returning-a-view-versus-a-copy\n",
      "  edges_df[\"reply_to_screen_name\"] = edges_df[\"reply_to_screen_name\"].fillna(\"\")\n",
      "c:\\projects\\twitter-covid-19\\utilities.py:53: SettingWithCopyWarning: \n",
      "A value is trying to be set on a copy of a slice from a DataFrame.\n",
      "Try using .loc[row_indexer,col_indexer] = value instead\n",
      "\n",
      "See the caveats in the documentation: https://pandas.pydata.org/pandas-docs/stable/user_guide/indexing.html#returning-a-view-versus-a-copy\n",
      "  edges_df[\"reply_to_screen_name\"] = edges_df[\"reply_to_screen_name\"].apply(lambda x: \"@\" + x if x != \"\" else \"\")\n",
      "c:\\projects\\twitter-covid-19\\utilities.py:55: SettingWithCopyWarning: \n",
      "A value is trying to be set on a copy of a slice from a DataFrame.\n",
      "Try using .loc[row_indexer,col_indexer] = value instead\n",
      "\n",
      "See the caveats in the documentation: https://pandas.pydata.org/pandas-docs/stable/user_guide/indexing.html#returning-a-view-versus-a-copy\n",
      "  edges_df[\"to\"] = edges_df[\"reply_to_screen_name\"] + \",\" + edges_df[\"mentions\"]\n",
      "c:\\projects\\twitter-covid-19\\utilities.py:56: SettingWithCopyWarning: \n",
      "A value is trying to be set on a copy of a slice from a DataFrame.\n",
      "Try using .loc[row_indexer,col_indexer] = value instead\n",
      "\n",
      "See the caveats in the documentation: https://pandas.pydata.org/pandas-docs/stable/user_guide/indexing.html#returning-a-view-versus-a-copy\n",
      "  edges_df[\"to\"] = edges_df[\"to\"].fillna(\"\")\n",
      "c:\\projects\\twitter-covid-19\\utilities.py:58: SettingWithCopyWarning: \n",
      "A value is trying to be set on a copy of a slice from a DataFrame.\n",
      "Try using .loc[row_indexer,col_indexer] = value instead\n",
      "\n",
      "See the caveats in the documentation: https://pandas.pydata.org/pandas-docs/stable/user_guide/indexing.html#returning-a-view-versus-a-copy\n",
      "  edges_df[\"to\"] = edges_df[\"to\"].apply(lambda x: \",\".join(list(set(x.split(\",\")))))\n",
      "c:\\projects\\twitter-covid-19\\utilities.py:59: SettingWithCopyWarning: \n",
      "A value is trying to be set on a copy of a slice from a DataFrame.\n",
      "Try using .loc[row_indexer,col_indexer] = value instead\n",
      "\n",
      "See the caveats in the documentation: https://pandas.pydata.org/pandas-docs/stable/user_guide/indexing.html#returning-a-view-versus-a-copy\n",
      "  edges_df[\"to\"] = edges_df[\"to\"].apply(lambda x: x[1:] if len(x)>0 and x[0]==\",\" else x)\n"
     ]
    }
   ],
   "source": [
    "# when we merge dataset and put it in csv, these no longer retain their original types\n",
    "# so we need the converters + eval to bring their original form back basically\n",
    "df = pd.read_csv('data/merged-dataset.csv', converters={\"hashtags\": eval, \"mentions\": eval, \"is_quote\": eval}) \n",
    "df = transform_df(df)"
   ]
  },
  {
   "cell_type": "code",
   "execution_count": 5,
   "metadata": {},
   "outputs": [
    {
     "output_type": "execute_result",
     "data": {
      "text/plain": [
       "           screen_name            created_at  \\\n",
       "0            RonniSalt  2020-03-29T00:00:29Z   \n",
       "1          CPHO_Canada  2020-03-29T00:03:14Z   \n",
       "2              RVAwonk  2020-03-29T00:03:41Z   \n",
       "3           byQueenVic  2020-03-29T00:07:37Z   \n",
       "4      ChristinePolon1  2020-03-29T00:07:45Z   \n",
       "...                ...                   ...   \n",
       "23111      CPHO_Canada  2020-04-30T23:49:51Z   \n",
       "23112        holmescnn  2020-04-30T23:50:12Z   \n",
       "23113   OnTheRedCarpet  2020-04-30T23:53:12Z   \n",
       "23114    SenatorDurbin  2020-04-30T23:54:13Z   \n",
       "23115       thecableng  2020-04-30T23:58:51Z   \n",
       "\n",
       "                                                hashtags  followers_count  \\\n",
       "0                                                covid19            27898   \n",
       "1      publichealth,physicaldistancing,covid19,stayho...           136733   \n",
       "2                                                covid19           437022   \n",
       "3                                            coronavirus            47206   \n",
       "4                                  coronavirus,washhands            37473   \n",
       "...                                                  ...              ...   \n",
       "23111             covid19,physicaldistancing,handwashing           189620   \n",
       "23112                            trump,coronavirus,china            22961   \n",
       "23113                          covid19,queen,adamlambert            58594   \n",
       "23114                                            covid19           658190   \n",
       "23115                                            covid19           483813   \n",
       "\n",
       "       friends_count                                               text  \\\n",
       "0               3544  Good to see the Prime Minister's buddy out the...   \n",
       "1                182  2/4 A note of cautious optimism from British C...   \n",
       "2               3703  CDC is denying a rumor that the agency is prep...   \n",
       "3               3800  Prince William and Kate have described the las...   \n",
       "4               6892  Still no one at my local Walmart sick that wor...   \n",
       "...              ...                                                ...   \n",
       "23111            182  4/5 While we are eager to get out of our house...   \n",
       "23112           2451  #Trump contradicts US intel community by claim...   \n",
       "23113           1178  YOU are the Champions🎶 @QueenWillRock and @ada...   \n",
       "23114           2366  .@SenateDems are ready to go back to work next...   \n",
       "23115           3888  PHOTOS: Humans hide behind rams inside lorries...   \n",
       "\n",
       "       is_quote  is_retweet  favourites_count  retweet_count country_code  \\\n",
       "0         False       False            225775            137                \n",
       "1         False       False               530            141                \n",
       "2          True       False             90581            168                \n",
       "3         False       False              6222             72                \n",
       "4         False       False            274262             64                \n",
       "...         ...         ...               ...            ...          ...   \n",
       "23111     False       False               541             54                \n",
       "23112     False       False              3022            167                \n",
       "23113     False       False             13496             56                \n",
       "23114     False       False               576             83                \n",
       "23115     False       False              2252             72                \n",
       "\n",
       "       verified lang                                           to  \n",
       "0         False   en                             @ScottMorrisonMP  \n",
       "1          True   en                                 @CPHO_Canada  \n",
       "2         False   en                                      @CDCgov  \n",
       "3          True   en                                      @PHE_uk  \n",
       "4         False   en                             @realDonaldTrump  \n",
       "...         ...  ...                                          ...  \n",
       "23111      True   en                                 @CPHO_Canada  \n",
       "23112      True   en  @kylieatwood,@ZcohenCNN,@MarquardtA,@Acosta  \n",
       "23113      True   en             @adamlambert,@QueenWillRock,@WHO  \n",
       "23114      True   en                                  @SenateDems  \n",
       "23115      True   en                                  @thecableng  \n",
       "\n",
       "[23116 rows x 14 columns]"
      ],
      "text/html": "<div>\n<style scoped>\n    .dataframe tbody tr th:only-of-type {\n        vertical-align: middle;\n    }\n\n    .dataframe tbody tr th {\n        vertical-align: top;\n    }\n\n    .dataframe thead th {\n        text-align: right;\n    }\n</style>\n<table border=\"1\" class=\"dataframe\">\n  <thead>\n    <tr style=\"text-align: right;\">\n      <th></th>\n      <th>screen_name</th>\n      <th>created_at</th>\n      <th>hashtags</th>\n      <th>followers_count</th>\n      <th>friends_count</th>\n      <th>text</th>\n      <th>is_quote</th>\n      <th>is_retweet</th>\n      <th>favourites_count</th>\n      <th>retweet_count</th>\n      <th>country_code</th>\n      <th>verified</th>\n      <th>lang</th>\n      <th>to</th>\n    </tr>\n  </thead>\n  <tbody>\n    <tr>\n      <th>0</th>\n      <td>RonniSalt</td>\n      <td>2020-03-29T00:00:29Z</td>\n      <td>covid19</td>\n      <td>27898</td>\n      <td>3544</td>\n      <td>Good to see the Prime Minister's buddy out the...</td>\n      <td>False</td>\n      <td>False</td>\n      <td>225775</td>\n      <td>137</td>\n      <td></td>\n      <td>False</td>\n      <td>en</td>\n      <td>@ScottMorrisonMP</td>\n    </tr>\n    <tr>\n      <th>1</th>\n      <td>CPHO_Canada</td>\n      <td>2020-03-29T00:03:14Z</td>\n      <td>publichealth,physicaldistancing,covid19,stayho...</td>\n      <td>136733</td>\n      <td>182</td>\n      <td>2/4 A note of cautious optimism from British C...</td>\n      <td>False</td>\n      <td>False</td>\n      <td>530</td>\n      <td>141</td>\n      <td></td>\n      <td>True</td>\n      <td>en</td>\n      <td>@CPHO_Canada</td>\n    </tr>\n    <tr>\n      <th>2</th>\n      <td>RVAwonk</td>\n      <td>2020-03-29T00:03:41Z</td>\n      <td>covid19</td>\n      <td>437022</td>\n      <td>3703</td>\n      <td>CDC is denying a rumor that the agency is prep...</td>\n      <td>True</td>\n      <td>False</td>\n      <td>90581</td>\n      <td>168</td>\n      <td></td>\n      <td>False</td>\n      <td>en</td>\n      <td>@CDCgov</td>\n    </tr>\n    <tr>\n      <th>3</th>\n      <td>byQueenVic</td>\n      <td>2020-03-29T00:07:37Z</td>\n      <td>coronavirus</td>\n      <td>47206</td>\n      <td>3800</td>\n      <td>Prince William and Kate have described the las...</td>\n      <td>False</td>\n      <td>False</td>\n      <td>6222</td>\n      <td>72</td>\n      <td></td>\n      <td>True</td>\n      <td>en</td>\n      <td>@PHE_uk</td>\n    </tr>\n    <tr>\n      <th>4</th>\n      <td>ChristinePolon1</td>\n      <td>2020-03-29T00:07:45Z</td>\n      <td>coronavirus,washhands</td>\n      <td>37473</td>\n      <td>6892</td>\n      <td>Still no one at my local Walmart sick that wor...</td>\n      <td>False</td>\n      <td>False</td>\n      <td>274262</td>\n      <td>64</td>\n      <td></td>\n      <td>False</td>\n      <td>en</td>\n      <td>@realDonaldTrump</td>\n    </tr>\n    <tr>\n      <th>...</th>\n      <td>...</td>\n      <td>...</td>\n      <td>...</td>\n      <td>...</td>\n      <td>...</td>\n      <td>...</td>\n      <td>...</td>\n      <td>...</td>\n      <td>...</td>\n      <td>...</td>\n      <td>...</td>\n      <td>...</td>\n      <td>...</td>\n      <td>...</td>\n    </tr>\n    <tr>\n      <th>23111</th>\n      <td>CPHO_Canada</td>\n      <td>2020-04-30T23:49:51Z</td>\n      <td>covid19,physicaldistancing,handwashing</td>\n      <td>189620</td>\n      <td>182</td>\n      <td>4/5 While we are eager to get out of our house...</td>\n      <td>False</td>\n      <td>False</td>\n      <td>541</td>\n      <td>54</td>\n      <td></td>\n      <td>True</td>\n      <td>en</td>\n      <td>@CPHO_Canada</td>\n    </tr>\n    <tr>\n      <th>23112</th>\n      <td>holmescnn</td>\n      <td>2020-04-30T23:50:12Z</td>\n      <td>trump,coronavirus,china</td>\n      <td>22961</td>\n      <td>2451</td>\n      <td>#Trump contradicts US intel community by claim...</td>\n      <td>False</td>\n      <td>False</td>\n      <td>3022</td>\n      <td>167</td>\n      <td></td>\n      <td>True</td>\n      <td>en</td>\n      <td>@kylieatwood,@ZcohenCNN,@MarquardtA,@Acosta</td>\n    </tr>\n    <tr>\n      <th>23113</th>\n      <td>OnTheRedCarpet</td>\n      <td>2020-04-30T23:53:12Z</td>\n      <td>covid19,queen,adamlambert</td>\n      <td>58594</td>\n      <td>1178</td>\n      <td>YOU are the Champions🎶 @QueenWillRock and @ada...</td>\n      <td>False</td>\n      <td>False</td>\n      <td>13496</td>\n      <td>56</td>\n      <td></td>\n      <td>True</td>\n      <td>en</td>\n      <td>@adamlambert,@QueenWillRock,@WHO</td>\n    </tr>\n    <tr>\n      <th>23114</th>\n      <td>SenatorDurbin</td>\n      <td>2020-04-30T23:54:13Z</td>\n      <td>covid19</td>\n      <td>658190</td>\n      <td>2366</td>\n      <td>.@SenateDems are ready to go back to work next...</td>\n      <td>False</td>\n      <td>False</td>\n      <td>576</td>\n      <td>83</td>\n      <td></td>\n      <td>True</td>\n      <td>en</td>\n      <td>@SenateDems</td>\n    </tr>\n    <tr>\n      <th>23115</th>\n      <td>thecableng</td>\n      <td>2020-04-30T23:58:51Z</td>\n      <td>covid19</td>\n      <td>483813</td>\n      <td>3888</td>\n      <td>PHOTOS: Humans hide behind rams inside lorries...</td>\n      <td>False</td>\n      <td>False</td>\n      <td>2252</td>\n      <td>72</td>\n      <td></td>\n      <td>True</td>\n      <td>en</td>\n      <td>@thecableng</td>\n    </tr>\n  </tbody>\n</table>\n<p>23116 rows × 14 columns</p>\n</div>"
     },
     "metadata": {},
     "execution_count": 5
    }
   ],
   "source": [
    "df.to_csv(\"primary-dataset.csv\", index=False)\n",
    "df"
   ]
  },
  {
   "source": [
    "# Generate networks\n",
    "\n",
    "Given the appropriate `DataFrame`, generate a directed network and save it as as Gephi file. Most functionaltiy here is implemented in `uitlities`."
   ],
   "cell_type": "markdown",
   "metadata": {}
  },
  {
   "cell_type": "code",
   "execution_count": 6,
   "metadata": {},
   "outputs": [],
   "source": [
    "create_gephi_from_network(get_network(df), \"entire-dataset\")\n",
    "create_gephi_from_network(get_network(df, from_hashtag=\"covid19\"), \"hashtag-covid19\")\n",
    "create_gephi_from_network(get_network(df, from_hashtag=\"coronavirus\"), \"hashtag-coronavirus\")\n",
    "create_gephi_from_network(get_network(df, from_hashtag=\"stayhomestaysafe\"), \"hashtag-stayhomestaysafe\")\n",
    "create_gephi_from_network(get_network(df, from_country=\"US\"), \"country-US\")\n",
    "create_gephi_from_network(get_network(df, from_country=\"IN\"), \"country-India\")\n",
    "create_gephi_from_network(get_network(df, from_country=\"GB\"), \"country-GB\")"
   ]
  },
  {
   "cell_type": "code",
   "execution_count": null,
   "metadata": {},
   "outputs": [],
   "source": []
  }
 ]
}