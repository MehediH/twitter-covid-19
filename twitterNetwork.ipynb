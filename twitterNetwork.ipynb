{
 "metadata": {
  "language_info": {
   "codemirror_mode": {
    "name": "ipython",
    "version": 3
   },
   "file_extension": ".py",
   "mimetype": "text/x-python",
   "name": "python",
   "nbconvert_exporter": "python",
   "pygments_lexer": "ipython3",
   "version": "3.9.2-final"
  },
  "orig_nbformat": 2,
  "kernelspec": {
   "name": "python3",
   "display_name": "Python 3.9.2 64-bit",
   "metadata": {
    "interpreter": {
     "hash": "63fd5069d213b44bf678585dea6b12cceca9941eaf7f819626cde1f2670de90d"
    }
   }
  }
 },
 "nbformat": 4,
 "nbformat_minor": 2,
 "cells": [
  {
   "cell_type": "code",
   "execution_count": 18,
   "metadata": {},
   "outputs": [],
   "source": [
    "import pandas as pd\n",
    "import networkx as nx\n",
    "import matplotlib.pyplot as plt"
   ]
  },
  {
   "cell_type": "code",
   "execution_count": 20,
   "metadata": {},
   "outputs": [],
   "source": [
    "def get_hashtag_network(df, hashtag: str):\n",
    "    ''' returns a dataframe with the edges and timestamp from tweets feed (df)'''\n",
    "    \n",
    "    idx = (df.is_reply)  & (df.hashtags.swifter.apply(lambda x: hashtag in x))\n",
    "    edges_df = df[idx][['user_id','reply_to_user_id', 'day']]\n",
    "    \n",
    "    edges_df = edges_df.dropna()\n",
    "    edges_df = edges_df.drop_duplicates().reset_index(drop=True)\n",
    "    edges_df = edges_df.rename(columns={'user_id': 'from', 'reply_to_user_id': 'to'})\n",
    "    \n",
    "    return edges_df\n",
    "\n",
    "\n",
    "def get_strongly_gcc(G):\n",
    "    \"\"\" get the giant strongly connected component of G\"\"\" \n",
    "    SGcc = max(nx.strongly_connected_components(G), key=len)\n",
    "    SGcc = G.subgraph(SGcc)\n",
    "    return SGcc\n",
    "\n",
    "def get_weakly_gcc(G):\n",
    "    \"\"\" get the giant weakly connected component of G\"\"\"  \n",
    "    WGcc = max(nx.weakly_connected_components(G), key=len)\n",
    "    WGcc = G.subgraph(WGcc)\n",
    "    return WGcc\n",
    "   \n",
    "\n",
    "def plot_network(G, G_degree=None):\n",
    "    ''' plot the graph with varying nodesize '''\n",
    "    \n",
    "    plt.figure(num=None, figsize=(15, 15), dpi=60, facecolor='w', edgecolor='k')\n",
    "    pos = nx.spring_layout(G)\n",
    "    \n",
    "    if G_degree:\n",
    "        node_size=[v * 10 for v in dict(G_degree).values()]\n",
    "    else:\n",
    "        node_size = 1\n",
    "        \n",
    "    nx.draw(G, pos, nodelist=dict(G_degree).keys(), node_size=node_size, width=0.5, alpha=0.5, edge_color='b')\n",
    "    plt.axis('off')\n",
    "    plt.show()"
   ]
  },
  {
   "cell_type": "code",
   "execution_count": 21,
   "metadata": {},
   "outputs": [
    {
     "output_type": "execute_result",
     "data": {
      "text/plain": [
       "['status_id',\n",
       " 'screen_name',\n",
       " 'text',\n",
       " 'source',\n",
       " 'reply_to_status_id',\n",
       " 'reply_to_screen_name',\n",
       " 'is_retweet',\n",
       " 'favourites_count',\n",
       " 'retweet_count',\n",
       " 'country_code',\n",
       " 'followers_count',\n",
       " 'friends_count',\n",
       " 'verified',\n",
       " 'lang']"
      ]
     },
     "metadata": {},
     "execution_count": 21
    }
   ],
   "source": [
    "import re\n",
    "text = \"hello i am @monkey etc etc etc hi@outlook.com\"\n",
    "re.findall(r'\\B@\\w*[a-zA-Z]+\\w*', text)\n",
    "\n",
    "\n",
    "df = pd.read_csv('data/merged-and-pruned-dataset.csv')\n",
    "df.head()\n",
    "df.columns.tolist()\n",
    "\n",
    "# countries_df = pd.read_csv(path/'Countries.csv', index_col=None, header=0)\n",
    "# countries_df.head()"
   ]
  },
  {
   "cell_type": "code",
   "execution_count": 22,
   "metadata": {},
   "outputs": [
    {
     "output_type": "error",
     "ename": "AttributeError",
     "evalue": "'DataFrame' object has no attribute 'is_reply'",
     "traceback": [
      "\u001b[1;31m---------------------------------------------------------------------------\u001b[0m",
      "\u001b[1;31mAttributeError\u001b[0m                            Traceback (most recent call last)",
      "\u001b[1;32m<ipython-input-22-bedcbcc91dbc>\u001b[0m in \u001b[0;36m<module>\u001b[1;34m\u001b[0m\n\u001b[1;32m----> 1\u001b[1;33m \u001b[0medges_df\u001b[0m \u001b[1;33m=\u001b[0m \u001b[0mget_hashtag_network\u001b[0m\u001b[1;33m(\u001b[0m\u001b[0mdf\u001b[0m\u001b[1;33m,\u001b[0m \u001b[1;34m'socialdistancing'\u001b[0m\u001b[1;33m)\u001b[0m\u001b[1;33m\u001b[0m\u001b[1;33m\u001b[0m\u001b[0m\n\u001b[0m",
      "\u001b[1;32m<ipython-input-20-66ad0ebee42f>\u001b[0m in \u001b[0;36mget_hashtag_network\u001b[1;34m(df, hashtag)\u001b[0m\n\u001b[0;32m      2\u001b[0m     \u001b[1;34m''' returns a dataframe with the edges and timestamp from tweets feed (df)'''\u001b[0m\u001b[1;33m\u001b[0m\u001b[1;33m\u001b[0m\u001b[0m\n\u001b[0;32m      3\u001b[0m \u001b[1;33m\u001b[0m\u001b[0m\n\u001b[1;32m----> 4\u001b[1;33m     \u001b[0midx\u001b[0m \u001b[1;33m=\u001b[0m \u001b[1;33m(\u001b[0m\u001b[0mdf\u001b[0m\u001b[1;33m.\u001b[0m\u001b[0mis_reply\u001b[0m\u001b[1;33m)\u001b[0m  \u001b[1;33m&\u001b[0m \u001b[1;33m(\u001b[0m\u001b[0mdf\u001b[0m\u001b[1;33m.\u001b[0m\u001b[0mhashtags\u001b[0m\u001b[1;33m.\u001b[0m\u001b[0mswifter\u001b[0m\u001b[1;33m.\u001b[0m\u001b[0mapply\u001b[0m\u001b[1;33m(\u001b[0m\u001b[1;32mlambda\u001b[0m \u001b[0mx\u001b[0m\u001b[1;33m:\u001b[0m \u001b[0mhashtag\u001b[0m \u001b[1;32min\u001b[0m \u001b[0mx\u001b[0m\u001b[1;33m)\u001b[0m\u001b[1;33m)\u001b[0m\u001b[1;33m\u001b[0m\u001b[1;33m\u001b[0m\u001b[0m\n\u001b[0m\u001b[0;32m      5\u001b[0m     \u001b[0medges_df\u001b[0m \u001b[1;33m=\u001b[0m \u001b[0mdf\u001b[0m\u001b[1;33m[\u001b[0m\u001b[0midx\u001b[0m\u001b[1;33m]\u001b[0m\u001b[1;33m[\u001b[0m\u001b[1;33m[\u001b[0m\u001b[1;34m'user_id'\u001b[0m\u001b[1;33m,\u001b[0m\u001b[1;34m'reply_to_user_id'\u001b[0m\u001b[1;33m,\u001b[0m \u001b[1;34m'day'\u001b[0m\u001b[1;33m]\u001b[0m\u001b[1;33m]\u001b[0m\u001b[1;33m\u001b[0m\u001b[1;33m\u001b[0m\u001b[0m\n\u001b[0;32m      6\u001b[0m \u001b[1;33m\u001b[0m\u001b[0m\n",
      "\u001b[1;32mC:\\Python39\\lib\\site-packages\\pandas\\core\\generic.py\u001b[0m in \u001b[0;36m__getattr__\u001b[1;34m(self, name)\u001b[0m\n\u001b[0;32m   5460\u001b[0m             \u001b[1;32mif\u001b[0m \u001b[0mself\u001b[0m\u001b[1;33m.\u001b[0m\u001b[0m_info_axis\u001b[0m\u001b[1;33m.\u001b[0m\u001b[0m_can_hold_identifiers_and_holds_name\u001b[0m\u001b[1;33m(\u001b[0m\u001b[0mname\u001b[0m\u001b[1;33m)\u001b[0m\u001b[1;33m:\u001b[0m\u001b[1;33m\u001b[0m\u001b[1;33m\u001b[0m\u001b[0m\n\u001b[0;32m   5461\u001b[0m                 \u001b[1;32mreturn\u001b[0m \u001b[0mself\u001b[0m\u001b[1;33m[\u001b[0m\u001b[0mname\u001b[0m\u001b[1;33m]\u001b[0m\u001b[1;33m\u001b[0m\u001b[1;33m\u001b[0m\u001b[0m\n\u001b[1;32m-> 5462\u001b[1;33m             \u001b[1;32mreturn\u001b[0m \u001b[0mobject\u001b[0m\u001b[1;33m.\u001b[0m\u001b[0m__getattribute__\u001b[0m\u001b[1;33m(\u001b[0m\u001b[0mself\u001b[0m\u001b[1;33m,\u001b[0m \u001b[0mname\u001b[0m\u001b[1;33m)\u001b[0m\u001b[1;33m\u001b[0m\u001b[1;33m\u001b[0m\u001b[0m\n\u001b[0m\u001b[0;32m   5463\u001b[0m \u001b[1;33m\u001b[0m\u001b[0m\n\u001b[0;32m   5464\u001b[0m     \u001b[1;32mdef\u001b[0m \u001b[0m__setattr__\u001b[0m\u001b[1;33m(\u001b[0m\u001b[0mself\u001b[0m\u001b[1;33m,\u001b[0m \u001b[0mname\u001b[0m\u001b[1;33m:\u001b[0m \u001b[0mstr\u001b[0m\u001b[1;33m,\u001b[0m \u001b[0mvalue\u001b[0m\u001b[1;33m)\u001b[0m \u001b[1;33m->\u001b[0m \u001b[1;32mNone\u001b[0m\u001b[1;33m:\u001b[0m\u001b[1;33m\u001b[0m\u001b[1;33m\u001b[0m\u001b[0m\n",
      "\u001b[1;31mAttributeError\u001b[0m: 'DataFrame' object has no attribute 'is_reply'"
     ]
    }
   ],
   "source": [
    "# edges_df = get_hashtag_network(df, 'socialdistancing')\n"
   ]
  },
  {
   "cell_type": "code",
   "execution_count": null,
   "metadata": {},
   "outputs": [],
   "source": []
  }
 ]
}